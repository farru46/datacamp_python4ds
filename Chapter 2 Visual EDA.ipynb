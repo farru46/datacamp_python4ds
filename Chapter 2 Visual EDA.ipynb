{
 "cells": [
  {
   "cell_type": "code",
   "execution_count": 1,
   "metadata": {},
   "outputs": [],
   "source": [
    "import pandas as pd\n",
    "import numpy as np\n",
    "from sklearn.datasets import load_iris\n",
    "import matplotlib.pyplot as plt\n",
    "import pandas_flavor as pf\n",
    "import janitor\n",
    "%matplotlib inline"
   ]
  },
  {
   "cell_type": "markdown",
   "metadata": {},
   "source": [
    "# using janitor to clean names"
   ]
  },
  {
   "cell_type": "code",
   "execution_count": 2,
   "metadata": {},
   "outputs": [],
   "source": [
    "iris = (\n",
    "    pd.read_csv(\"iris.csv\")\n",
    "    .clean_names()\n",
    ")"
   ]
  },
  {
   "cell_type": "code",
   "execution_count": 35,
   "metadata": {},
   "outputs": [
    {
     "data": {
      "text/html": [
       "<div>\n",
       "<style scoped>\n",
       "    .dataframe tbody tr th:only-of-type {\n",
       "        vertical-align: middle;\n",
       "    }\n",
       "\n",
       "    .dataframe tbody tr th {\n",
       "        vertical-align: top;\n",
       "    }\n",
       "\n",
       "    .dataframe thead th {\n",
       "        text-align: right;\n",
       "    }\n",
       "</style>\n",
       "<table border=\"1\" class=\"dataframe\">\n",
       "  <thead>\n",
       "    <tr style=\"text-align: right;\">\n",
       "      <th></th>\n",
       "      <th>sepal_length</th>\n",
       "      <th>sepal_width</th>\n",
       "      <th>petal_length</th>\n",
       "      <th>petal_width</th>\n",
       "      <th>species</th>\n",
       "    </tr>\n",
       "  </thead>\n",
       "  <tbody>\n",
       "    <tr>\n",
       "      <td>0</td>\n",
       "      <td>5.1</td>\n",
       "      <td>3.5</td>\n",
       "      <td>1.4</td>\n",
       "      <td>0.2</td>\n",
       "      <td>setosa</td>\n",
       "    </tr>\n",
       "    <tr>\n",
       "      <td>1</td>\n",
       "      <td>4.9</td>\n",
       "      <td>3.0</td>\n",
       "      <td>1.4</td>\n",
       "      <td>0.2</td>\n",
       "      <td>setosa</td>\n",
       "    </tr>\n",
       "    <tr>\n",
       "      <td>2</td>\n",
       "      <td>4.7</td>\n",
       "      <td>3.2</td>\n",
       "      <td>1.3</td>\n",
       "      <td>0.2</td>\n",
       "      <td>setosa</td>\n",
       "    </tr>\n",
       "    <tr>\n",
       "      <td>3</td>\n",
       "      <td>4.6</td>\n",
       "      <td>3.1</td>\n",
       "      <td>1.5</td>\n",
       "      <td>0.2</td>\n",
       "      <td>setosa</td>\n",
       "    </tr>\n",
       "    <tr>\n",
       "      <td>4</td>\n",
       "      <td>5.0</td>\n",
       "      <td>3.6</td>\n",
       "      <td>1.4</td>\n",
       "      <td>0.2</td>\n",
       "      <td>setosa</td>\n",
       "    </tr>\n",
       "  </tbody>\n",
       "</table>\n",
       "</div>"
      ],
      "text/plain": [
       "   sepal_length  sepal_width  petal_length  petal_width species\n",
       "0           5.1          3.5           1.4          0.2  setosa\n",
       "1           4.9          3.0           1.4          0.2  setosa\n",
       "2           4.7          3.2           1.3          0.2  setosa\n",
       "3           4.6          3.1           1.5          0.2  setosa\n",
       "4           5.0          3.6           1.4          0.2  setosa"
      ]
     },
     "execution_count": 35,
     "metadata": {},
     "output_type": "execute_result"
    }
   ],
   "source": [
    "iris.head()"
   ]
  },
  {
   "cell_type": "code",
   "execution_count": 16,
   "metadata": {},
   "outputs": [
    {
     "name": "stdout",
     "output_type": "stream",
     "text": [
      "(150, 5)\n"
     ]
    }
   ],
   "source": [
    "print(iris.shape)"
   ]
  },
  {
   "cell_type": "code",
   "execution_count": 38,
   "metadata": {},
   "outputs": [
    {
     "data": {
      "image/png": "[encoded data removed]",
      "text/plain": [
       "<Figure size 432x288 with 1 Axes>"
      ]
     },
     "metadata": {
      "needs_background": "light"
     },
     "output_type": "display_data"
    }
   ],
   "source": [
    "iris.plot(x = 'sepal_length', y = 'sepal_width', kind = 'scatter')\n",
    "plt.xlabel('Sepal Length cm()')\n",
    "plt.ylabel('Sepal Width (cm)')\n",
    "plt.show()"
   ]
  },
  {
   "cell_type": "code",
   "execution_count": 26,
   "metadata": {},
   "outputs": [
    {
     "data": {
      "text/plain": [
       "<matplotlib.axes._subplots.AxesSubplot at 0x1a20808610>"
      ]
     },
     "execution_count": 26,
     "metadata": {},
     "output_type": "execute_result"
    },
    {
     "data": {
      "image/png": "[encoded data removed]",
      "text/plain": [
       "<Figure size 432x288 with 1 Axes>"
      ]
     },
     "metadata": {
      "needs_background": "light"
     },
     "output_type": "display_data"
    }
   ],
   "source": [
    "iris.plot(y = 'Sepal.Length', kind = 'box')\n",
    "plt.ylabel('')\n",
    "# plt.show()"
   ]
  },
  {
   "cell_type": "code",
   "execution_count": 39,
   "metadata": {},
   "outputs": [
    {
     "data": {
      "text/plain": [
       "Text(0, 0.5, '')"
      ]
     },
     "execution_count": 39,
     "metadata": {},
     "output_type": "execute_result"
    },
    {
     "data": {
      "image/png": "[encoded data removed]",
      "text/plain": [
       "<Figure size 432x288 with 1 Axes>"
      ]
     },
     "metadata": {
      "needs_background": "light"
     },
     "output_type": "display_data"
    }
   ],
   "source": [
    "iris.plot(y = 'sepal_length', kind = 'hist')\n",
    "plt.ylabel('')\n",
    "# plt.show()"
   ]
  },
  {
   "cell_type": "code",
   "execution_count": 42,
   "metadata": {},
   "outputs": [
    {
     "data": {
      "text/plain": [
       "Text(0.5, 0, 'sepal length (cm)')"
      ]
     },
     "execution_count": 42,
     "metadata": {},
     "output_type": "execute_result"
    },
    {
     "data": {
      "image/png": "[encoded data removed]",
      "text/plain": [
       "<Figure size 432x288 with 1 Axes>"
      ]
     },
     "metadata": {
      "needs_background": "light"
     },
     "output_type": "display_data"
    }
   ],
   "source": [
    "iris.plot(y = 'sepal_length', \n",
    "          kind = 'hist', \n",
    "          bins = 30, \n",
    "          range = (4,8), \n",
    "          normed = True)\n",
    "\n",
    "plt.xlabel('sepal length (cm)')"
   ]
  },
  {
   "cell_type": "code",
   "execution_count": 43,
   "metadata": {},
   "outputs": [
    {
     "name": "stderr",
     "output_type": "stream",
     "text": [
      "/Users/actify/opt/anaconda3/lib/python3.7/site-packages/pandas/plotting/_matplotlib/hist.py:62: MatplotlibDeprecationWarning: \n",
      "The 'normed' kwarg was deprecated in Matplotlib 2.1 and will be removed in 3.1. Use 'density' instead.\n",
      "  n, bins, patches = ax.hist(y, bins=bins, bottom=bottom, **kwds)\n"
     ]
    },
    {
     "data": {
      "text/plain": [
       "Text(0.5, 0, 'sepal length (cm)')"
      ]
     },
     "execution_count": 43,
     "metadata": {},
     "output_type": "execute_result"
    },
    {
     "data": {
      "image/png": "[encoded data removed]",
      "text/plain": [
       "<Figure size 432x288 with 1 Axes>"
      ]
     },
     "metadata": {
      "needs_background": "light"
     },
     "output_type": "display_data"
    }
   ],
   "source": [
    "iris.plot(y = 'sepal_length', \n",
    "          kind = 'hist', \n",
    "          bins = 30, \n",
    "          range = (4,8), \n",
    "          normed = True, cumulative = True)\n",
    "\n",
    "plt.xlabel('sepal length (cm)')"
   ]
  },
  {
   "cell_type": "markdown",
   "metadata": {},
   "source": [
    "# .plot() method places the index values on the X-axis by default"
   ]
  },
  {
   "cell_type": "code",
   "execution_count": 46,
   "metadata": {},
   "outputs": [
    {
     "data": {
      "text/html": [
       "<div>\n",
       "<style scoped>\n",
       "    .dataframe tbody tr th:only-of-type {\n",
       "        vertical-align: middle;\n",
       "    }\n",
       "\n",
       "    .dataframe tbody tr th {\n",
       "        vertical-align: top;\n",
       "    }\n",
       "\n",
       "    .dataframe thead th {\n",
       "        text-align: right;\n",
       "    }\n",
       "</style>\n",
       "<table border=\"1\" class=\"dataframe\">\n",
       "  <thead>\n",
       "    <tr style=\"text-align: right;\">\n",
       "      <th></th>\n",
       "      <th>sepal_length</th>\n",
       "      <th>sepal_width</th>\n",
       "      <th>petal_length</th>\n",
       "      <th>petal_width</th>\n",
       "      <th>species</th>\n",
       "    </tr>\n",
       "  </thead>\n",
       "  <tbody>\n",
       "    <tr>\n",
       "      <td>0</td>\n",
       "      <td>5.1</td>\n",
       "      <td>3.5</td>\n",
       "      <td>1.4</td>\n",
       "      <td>0.2</td>\n",
       "      <td>setosa</td>\n",
       "    </tr>\n",
       "    <tr>\n",
       "      <td>1</td>\n",
       "      <td>4.9</td>\n",
       "      <td>3.0</td>\n",
       "      <td>1.4</td>\n",
       "      <td>0.2</td>\n",
       "      <td>setosa</td>\n",
       "    </tr>\n",
       "    <tr>\n",
       "      <td>2</td>\n",
       "      <td>4.7</td>\n",
       "      <td>3.2</td>\n",
       "      <td>1.3</td>\n",
       "      <td>0.2</td>\n",
       "      <td>setosa</td>\n",
       "    </tr>\n",
       "    <tr>\n",
       "      <td>3</td>\n",
       "      <td>4.6</td>\n",
       "      <td>3.1</td>\n",
       "      <td>1.5</td>\n",
       "      <td>0.2</td>\n",
       "      <td>setosa</td>\n",
       "    </tr>\n",
       "    <tr>\n",
       "      <td>4</td>\n",
       "      <td>5.0</td>\n",
       "      <td>3.6</td>\n",
       "      <td>1.4</td>\n",
       "      <td>0.2</td>\n",
       "      <td>setosa</td>\n",
       "    </tr>\n",
       "  </tbody>\n",
       "</table>\n",
       "</div>"
      ],
      "text/plain": [
       "   sepal_length  sepal_width  petal_length  petal_width species\n",
       "0           5.1          3.5           1.4          0.2  setosa\n",
       "1           4.9          3.0           1.4          0.2  setosa\n",
       "2           4.7          3.2           1.3          0.2  setosa\n",
       "3           4.6          3.1           1.5          0.2  setosa\n",
       "4           5.0          3.6           1.4          0.2  setosa"
      ]
     },
     "execution_count": 46,
     "metadata": {},
     "output_type": "execute_result"
    }
   ],
   "source": [
    "iris.head()"
   ]
  },
  {
   "cell_type": "code",
   "execution_count": 52,
   "metadata": {},
   "outputs": [
    {
     "data": {
      "text/plain": [
       "<matplotlib.axes._subplots.AxesSubplot at 0x1a24a65c10>"
      ]
     },
     "execution_count": 52,
     "metadata": {},
     "output_type": "execute_result"
    },
    {
     "data": {
      "image/png": "[encoded data removed]",
      "text/plain": [
       "<Figure size 432x288 with 1 Axes>"
      ]
     },
     "metadata": {
      "needs_background": "light"
     },
     "output_type": "display_data"
    }
   ],
   "source": [
    "iris.plot(x = 'sepal_length', y = 'petal_width', kind = 'scatter', color = 'red')"
   ]
  },
  {
   "cell_type": "markdown",
   "metadata": {},
   "source": [
    "# Stock data"
   ]
  },
  {
   "cell_type": "code",
   "execution_count": 65,
   "metadata": {},
   "outputs": [],
   "source": [
    "colnames = ['Month','AAPL', 'GOOG', 'IBM']\n",
    "df = pd.read_csv(\"./datasets/stock_data\", header=None,names = colnames )"
   ]
  },
  {
   "cell_type": "code",
   "execution_count": 66,
   "metadata": {},
   "outputs": [
    {
     "data": {
      "text/html": [
       "<div>\n",
       "<style scoped>\n",
       "    .dataframe tbody tr th:only-of-type {\n",
       "        vertical-align: middle;\n",
       "    }\n",
       "\n",
       "    .dataframe tbody tr th {\n",
       "        vertical-align: top;\n",
       "    }\n",
       "\n",
       "    .dataframe thead th {\n",
       "        text-align: right;\n",
       "    }\n",
       "</style>\n",
       "<table border=\"1\" class=\"dataframe\">\n",
       "  <thead>\n",
       "    <tr style=\"text-align: right;\">\n",
       "      <th></th>\n",
       "      <th>Month</th>\n",
       "      <th>AAPL</th>\n",
       "      <th>GOOG</th>\n",
       "      <th>IBM</th>\n",
       "    </tr>\n",
       "  </thead>\n",
       "  <tbody>\n",
       "    <tr>\n",
       "      <td>0</td>\n",
       "      <td>Jan</td>\n",
       "      <td>117.160004</td>\n",
       "      <td>534.522445</td>\n",
       "      <td>153.309998</td>\n",
       "    </tr>\n",
       "    <tr>\n",
       "      <td>1</td>\n",
       "      <td>Feb</td>\n",
       "      <td>128.460007</td>\n",
       "      <td>558.402511</td>\n",
       "      <td>161.940002</td>\n",
       "    </tr>\n",
       "    <tr>\n",
       "      <td>2</td>\n",
       "      <td>Mar</td>\n",
       "      <td>124.430000</td>\n",
       "      <td>548.002468</td>\n",
       "      <td>160.500000</td>\n",
       "    </tr>\n",
       "    <tr>\n",
       "      <td>3</td>\n",
       "      <td>Apr</td>\n",
       "      <td>125.150002</td>\n",
       "      <td>537.340027</td>\n",
       "      <td>171.289993</td>\n",
       "    </tr>\n",
       "    <tr>\n",
       "      <td>4</td>\n",
       "      <td>May</td>\n",
       "      <td>130.279999</td>\n",
       "      <td>532.109985</td>\n",
       "      <td>169.649994</td>\n",
       "    </tr>\n",
       "  </tbody>\n",
       "</table>\n",
       "</div>"
      ],
      "text/plain": [
       "  Month        AAPL        GOOG         IBM\n",
       "0   Jan  117.160004  534.522445  153.309998\n",
       "1   Feb  128.460007  558.402511  161.940002\n",
       "2   Mar  124.430000  548.002468  160.500000\n",
       "3   Apr  125.150002  537.340027  171.289993\n",
       "4   May  130.279999  532.109985  169.649994"
      ]
     },
     "execution_count": 66,
     "metadata": {},
     "output_type": "execute_result"
    }
   ],
   "source": [
    "df.head()"
   ]
  },
  {
   "cell_type": "code",
   "execution_count": 68,
   "metadata": {},
   "outputs": [],
   "source": [
    "y_columns = ['AAPL', 'IBM']"
   ]
  },
  {
   "cell_type": "code",
   "execution_count": 72,
   "metadata": {},
   "outputs": [
    {
     "data": {
      "text/plain": [
       "Text(0, 0.5, 'Price ($US)')"
      ]
     },
     "execution_count": 72,
     "metadata": {},
     "output_type": "execute_result"
    },
    {
     "data": {
      "image/png": "[encoded data removed]",
      "text/plain": [
       "<Figure size 432x288 with 1 Axes>"
      ]
     },
     "metadata": {
      "needs_background": "light"
     },
     "output_type": "display_data"
    }
   ],
   "source": [
    "df.plot(x = 'Month', y = y_columns)\n",
    "plt.title('Monthly stock prices')\n",
    "# plt.xlabel()\n",
    "plt.ylabel('Price ($US)')"
   ]
  },
  {
   "cell_type": "code",
   "execution_count": 3,
   "metadata": {},
   "outputs": [],
   "source": [
    "colnames = [\"mpg\",\n",
    "\"cylinders\",\n",
    "\"displacement\",\n",
    "\"hp\",\n",
    "\"weight\",\n",
    "\"acceleration\",\n",
    "\"modelyear\",\n",
    "\"origin\",\n",
    "\"carname\"]\n",
    "df = pd.read_csv(\"datasets/auto-mpg.csv\", names = colnames, na_values='?')"
   ]
  },
  {
   "cell_type": "code",
   "execution_count": 4,
   "metadata": {},
   "outputs": [
    {
     "data": {
      "text/plain": [
       "mpg                     25\n",
       "cylinders                4\n",
       "displacement            98\n",
       "hp                     NaN\n",
       "weight                2046\n",
       "acceleration            19\n",
       "modelyear               71\n",
       "origin                   1\n",
       "carname         ford pinto\n",
       "Name: 32, dtype: object"
      ]
     },
     "execution_count": 4,
     "metadata": {},
     "output_type": "execute_result"
    }
   ],
   "source": [
    "df.iloc[32,:]"
   ]
  },
  {
   "cell_type": "code",
   "execution_count": 5,
   "metadata": {},
   "outputs": [
    {
     "data": {
      "text/plain": [
       "['mpg',\n",
       " 'cylinders',\n",
       " 'displacement',\n",
       " 'hp',\n",
       " 'weight',\n",
       " 'acceleration',\n",
       " 'modelyear',\n",
       " 'origin',\n",
       " 'carname']"
      ]
     },
     "execution_count": 5,
     "metadata": {},
     "output_type": "execute_result"
    }
   ],
   "source": [
    "df.columns.tolist()"
   ]
  },
  {
   "cell_type": "code",
   "execution_count": 6,
   "metadata": {},
   "outputs": [],
   "source": [
    "df = df[df['hp'] != 4732]\n",
    "sizes  = [ 51.12044694,  56.78387977,  49.15557238,  49.06977358,\n",
    "        49.52823321,  78.4595872 ,  78.93021696,  77.41479205,\n",
    "        81.52541106,  61.71459825,  52.85646225,  54.23007578,\n",
    "        58.89427963,  39.65137852,  23.42587473,  33.41639502,\n",
    "        32.03903011,  27.8650165 ,  18.88972581,  14.0196956 ,\n",
    "        29.72619722,  24.58549713,  23.48516821,  20.77938954,\n",
    "        29.19459189,  88.67676838,  79.72987328,  79.94866084,\n",
    "        93.23005042,  18.88972581,  21.34122243,  20.6679223 ,\n",
    "        28.88670381,  49.24144612,  46.14174741,  45.39631334,\n",
    "        45.01218186,  73.76057586,  82.96880195,  71.84547684,\n",
    "        69.85320595, 102.22421043,  93.78252358, 110.        ,\n",
    "        36.52889673,  24.14234281,  44.84805372,  41.02504618,\n",
    "        20.51976563,  18.765772  ,  17.9095202 ,  17.75442285,\n",
    "        13.08832041,  10.83266174,  14.00441945,  15.91328975,\n",
    "        21.60597587,  18.8188451 ,  21.15311208,  24.14234281,\n",
    "        20.63083317,  76.05635059,  80.05816704,  71.18975117,\n",
    "        70.98330444,  56.13992036,  89.36985382,  84.38736544,\n",
    "        82.6716892 ,  81.4149056 ,  22.60363518,  63.06844313,\n",
    "        69.92143863,  76.76982089,  69.2066568 ,  35.81711267,\n",
    "        26.25184749,  36.94940537,  19.95069229,  23.88237331,\n",
    "        21.79608472,  26.1474042 ,  19.49759118,  18.36136808,\n",
    "        69.98970461,  56.13992036,  66.21810474,  68.02351436,\n",
    "        59.39644014, 102.10046481,  82.96880195,  79.25686195,\n",
    "        74.74521151,  93.34830013, 102.05923292,  60.7883734 ,\n",
    "        40.55589449,  44.7388015 ,  36.11079464,  37.9986264 ,\n",
    "        35.11233175,  15.83199594, 103.96451839, 100.21241654,\n",
    "        90.18186347,  84.27493641,  32.38645967,  21.62494928,\n",
    "        24.00218436,  23.56434276,  18.78345471,  22.21725537,\n",
    "        25.44271071,  21.36007926,  69.37650986,  76.19877818,\n",
    "        14.51292942,  19.38962134,  27.75740889,  34.24717407,\n",
    "        48.10262495,  29.459795  ,  32.80584831,  55.89556844,\n",
    "        40.06360581,  35.03982309,  46.33599903,  15.83199594,\n",
    "        25.01226779,  14.03498009,  26.90404245,  59.52231336,\n",
    "        54.92349014,  54.35035315,  71.39649768,  91.93424995,\n",
    "        82.70879915,  89.56285636,  75.45251972,  20.50128352,\n",
    "        16.04379287,  22.02531454,  11.32159874,  16.70430249,\n",
    "        18.80114574,  18.50153068,  21.00322336,  25.79385418,\n",
    "        23.80266582,  16.65430211,  44.35746794,  49.815853  ,\n",
    "        49.04119063,  41.52318884,  90.72524338,  82.07906251,\n",
    "        84.23747672,  90.29816462,  63.55551901,  63.23059357,\n",
    "        57.92740995,  59.64831981,  38.45278922,  43.19643409,\n",
    "        41.81296121,  19.62393488,  28.99647648,  35.35456858,\n",
    "        27.97283229,  30.39744886,  20.57526193,  26.96758278,\n",
    "        37.07354237,  15.62160631,  42.92863291,  30.21771564,\n",
    "        36.40567571,  36.11079464,  29.70395123,  13.41514444,\n",
    "        25.27829944,  20.51976563,  27.54281821,  21.17188565,\n",
    "        20.18836167,  73.97101962,  73.09614831,  65.35749368,\n",
    "        73.97101962,  43.51889468,  46.80945169,  37.77255674,\n",
    "        39.6256851 ,  17.24230306,  19.49759118,  15.62160631,\n",
    "        13.41514444,  55.49963323,  53.18333207,  55.31736854,\n",
    "        42.44868923,  13.86730874,  16.48817545,  19.33574884,\n",
    "        27.3931002 ,  41.31307817,  64.63368105,  44.52069676,\n",
    "        35.74387954,  60.75655952,  79.87569835,  68.46177648,\n",
    "        62.35745431,  58.70651902,  17.41217694,  19.33574884,\n",
    "        13.86730874,  22.02531454,  15.75091031,  62.68013142,\n",
    "        68.63071356,  71.36201911,  76.80558184,  51.58836621,\n",
    "        48.84134317,  54.86301837,  51.73502816,  74.14661842,\n",
    "        72.22648148,  77.88228247,  78.24284811,  15.67003285,\n",
    "        31.25845963,  21.36007926,  31.60164234,  17.51450098,\n",
    "        17.92679488,  16.40542438,  19.96892459,  32.99310928,\n",
    "        28.14577056,  30.80379718,  16.40542438,  13.48998471,\n",
    "        16.40542438,  17.84050478,  13.48998471,  47.1451025 ,\n",
    "        58.08281541,  53.06435374,  52.02897659,  41.44433489,\n",
    "        36.60292926,  30.80379718,  48.98404972,  42.90189859,\n",
    "        47.56635225,  39.24128299,  54.56115914,  48.41447259,\n",
    "        48.84134317,  49.41341845,  42.76835191,  69.30854366,\n",
    "        19.33574884,  27.28640858,  22.02531454,  20.70504474,\n",
    "        26.33555201,  31.37264569,  33.93740821,  24.08222494,\n",
    "        33.34566004,  41.05118927,  32.52595611,  48.41447259,\n",
    "        16.48817545,  18.97851406,  43.84255439,  37.22278157,\n",
    "        34.77459916,  44.38465193,  47.00510227,  61.39441929,\n",
    "        57.77221268,  65.12675249,  61.07507305,  79.14790534,\n",
    "        68.42801405,  54.10993164,  64.63368105,  15.42864956,\n",
    "        16.24054679,  15.26876826,  29.68171358,  51.88189829,\n",
    "        63.32798377,  42.36896092,  48.6988448 ,  20.15170555,\n",
    "        19.24612787,  16.98905358,  18.88972581,  29.68171358,\n",
    "        28.03762169,  30.35246559,  27.20120517,  19.13885751,\n",
    "        16.12562794,  18.71277385,  16.9722369 ,  29.85984799,\n",
    "        34.29495526,  37.54716158,  47.59450219,  19.93246832,\n",
    "        30.60028577,  26.90404245,  24.66650366,  21.36007926,\n",
    "        18.5366546 ,  32.64243213,  18.5366546 ,  18.09999962,\n",
    "        22.70075058,  36.23351603,  43.97776651,  14.24983724,\n",
    "        19.15671509,  14.17291518,  35.25757392,  24.38356372,\n",
    "        26.02234705,  21.83420642,  25.81458463,  28.90864169,\n",
    "        28.58044785,  30.91715052,  23.6833544 ,  12.82391671,\n",
    "        14.63757021,  12.89709155,  17.75442285,  16.24054679,\n",
    "        17.49742615,  16.40542438,  20.42743834,  17.41217694,\n",
    "        23.58415722,  19.96892459,  20.33531923,  22.99334585,\n",
    "        28.47146626,  28.90864169,  43.43816712,  41.57579979,\n",
    "        35.01567018,  35.74387954,  48.5565546 ,  57.77221268,\n",
    "        38.98605581,  49.98882458,  28.25412762,  29.01845599,\n",
    "        23.88237331,  27.60710798,  26.54539622,  31.14448175,\n",
    "        34.17556473,  16.3228815 ,  17.0732619 ,  16.15842026,\n",
    "        18.80114574,  18.80114574,  19.42557798,  20.2434083 ,\n",
    "        20.98452475,  16.07650192,  16.07650192,  16.57113469,\n",
    "        36.11079464,  37.84783835,  27.82194848,  33.46359332,\n",
    "        29.5706502 ,  23.38638738,  36.23351603,  32.40968826,\n",
    "        18.88972581,  21.92965639,  28.68963762,  30.80379718]"
   ]
  },
  {
   "cell_type": "code",
   "execution_count": 7,
   "metadata": {},
   "outputs": [
    {
     "data": {
      "image/png": "[encoded data removed]",
      "text/plain": [
       "<Figure size 432x288 with 1 Axes>"
      ]
     },
     "metadata": {
      "needs_background": "light"
     },
     "output_type": "display_data"
    }
   ],
   "source": [
    "df.plot(x = 'hp', y = 'mpg', kind = 'scatter', s= sizes)\n",
    "plt.title('Fuel Efficiency Vs Horsepower')\n",
    "plt.xlabel('Horse Power')\n",
    "plt.ylabel('Miles per Gallon')\n",
    "plt.show()"
   ]
  },
  {
   "cell_type": "code",
   "execution_count": 8,
   "metadata": {},
   "outputs": [
    {
     "name": "stdout",
     "output_type": "stream",
     "text": [
      "this is 4\n",
      "this is 2 and this is 7\n",
      "2\n"
     ]
    }
   ],
   "source": [
    "x = 2\n",
    "y = 7\n",
    "print(f\"this is {x ** 2}\")\n",
    "print(\"this is {x} and this is {y}\".format(y = y, x = x))\n",
    "print(f\"{x}\")"
   ]
  },
  {
   "cell_type": "code",
   "execution_count": 11,
   "metadata": {},
   "outputs": [
    {
     "data": {
      "text/plain": [
       "mpg          AxesSubplot(0.125,0.125;0.352273x0.755)\n",
       "weight    AxesSubplot(0.547727,0.125;0.352273x0.755)\n",
       "dtype: object"
      ]
     },
     "execution_count": 11,
     "metadata": {},
     "output_type": "execute_result"
    },
    {
     "data": {
      "image/png": "[encoded data removed]",
      "text/plain": [
       "<Figure size 432x288 with 2 Axes>"
      ]
     },
     "metadata": {
      "needs_background": "light"
     },
     "output_type": "display_data"
    }
   ],
   "source": [
    "cols = ['mpg', 'weight']\n",
    "df[cols].plot(subplots = True, kind = 'box')"
   ]
  },
  {
   "cell_type": "code",
   "execution_count": 12,
   "metadata": {},
   "outputs": [
    {
     "data": {
      "image/png": "[encoded data removed]",
      "text/plain": [
       "<Figure size 432x288 with 2 Axes>"
      ]
     },
     "metadata": {
      "needs_background": "light"
     },
     "output_type": "display_data"
    }
   ],
   "source": [
    "fig, axes = plt.subplots(nrows=2, ncols=1)"
   ]
  },
  {
   "cell_type": "code",
   "execution_count": 13,
   "metadata": {},
   "outputs": [],
   "source": [
    "import seaborn as sns"
   ]
  },
  {
   "cell_type": "code",
   "execution_count": 14,
   "metadata": {},
   "outputs": [],
   "source": [
    "df = sns.load_dataset('tips')"
   ]
  },
  {
   "cell_type": "code",
   "execution_count": 15,
   "metadata": {},
   "outputs": [
    {
     "data": {
      "text/html": [
       "<div>\n",
       "<style scoped>\n",
       "    .dataframe tbody tr th:only-of-type {\n",
       "        vertical-align: middle;\n",
       "    }\n",
       "\n",
       "    .dataframe tbody tr th {\n",
       "        vertical-align: top;\n",
       "    }\n",
       "\n",
       "    .dataframe thead th {\n",
       "        text-align: right;\n",
       "    }\n",
       "</style>\n",
       "<table border=\"1\" class=\"dataframe\">\n",
       "  <thead>\n",
       "    <tr style=\"text-align: right;\">\n",
       "      <th></th>\n",
       "      <th>total_bill</th>\n",
       "      <th>tip</th>\n",
       "      <th>sex</th>\n",
       "      <th>smoker</th>\n",
       "      <th>day</th>\n",
       "      <th>time</th>\n",
       "      <th>size</th>\n",
       "    </tr>\n",
       "  </thead>\n",
       "  <tbody>\n",
       "    <tr>\n",
       "      <td>0</td>\n",
       "      <td>16.99</td>\n",
       "      <td>1.01</td>\n",
       "      <td>Female</td>\n",
       "      <td>No</td>\n",
       "      <td>Sun</td>\n",
       "      <td>Dinner</td>\n",
       "      <td>2</td>\n",
       "    </tr>\n",
       "    <tr>\n",
       "      <td>1</td>\n",
       "      <td>10.34</td>\n",
       "      <td>1.66</td>\n",
       "      <td>Male</td>\n",
       "      <td>No</td>\n",
       "      <td>Sun</td>\n",
       "      <td>Dinner</td>\n",
       "      <td>3</td>\n",
       "    </tr>\n",
       "    <tr>\n",
       "      <td>2</td>\n",
       "      <td>21.01</td>\n",
       "      <td>3.50</td>\n",
       "      <td>Male</td>\n",
       "      <td>No</td>\n",
       "      <td>Sun</td>\n",
       "      <td>Dinner</td>\n",
       "      <td>3</td>\n",
       "    </tr>\n",
       "    <tr>\n",
       "      <td>3</td>\n",
       "      <td>23.68</td>\n",
       "      <td>3.31</td>\n",
       "      <td>Male</td>\n",
       "      <td>No</td>\n",
       "      <td>Sun</td>\n",
       "      <td>Dinner</td>\n",
       "      <td>2</td>\n",
       "    </tr>\n",
       "    <tr>\n",
       "      <td>4</td>\n",
       "      <td>24.59</td>\n",
       "      <td>3.61</td>\n",
       "      <td>Female</td>\n",
       "      <td>No</td>\n",
       "      <td>Sun</td>\n",
       "      <td>Dinner</td>\n",
       "      <td>4</td>\n",
       "    </tr>\n",
       "  </tbody>\n",
       "</table>\n",
       "</div>"
      ],
      "text/plain": [
       "   total_bill   tip     sex smoker  day    time  size\n",
       "0       16.99  1.01  Female     No  Sun  Dinner     2\n",
       "1       10.34  1.66    Male     No  Sun  Dinner     3\n",
       "2       21.01  3.50    Male     No  Sun  Dinner     3\n",
       "3       23.68  3.31    Male     No  Sun  Dinner     2\n",
       "4       24.59  3.61  Female     No  Sun  Dinner     4"
      ]
     },
     "execution_count": 15,
     "metadata": {},
     "output_type": "execute_result"
    }
   ],
   "source": [
    "df.head()"
   ]
  },
  {
   "cell_type": "code",
   "execution_count": 16,
   "metadata": {},
   "outputs": [],
   "source": [
    "df['fraction'] = df['tip'] / df['total_bill']"
   ]
  },
  {
   "cell_type": "code",
   "execution_count": 17,
   "metadata": {},
   "outputs": [
    {
     "data": {
      "text/html": [
       "<div>\n",
       "<style scoped>\n",
       "    .dataframe tbody tr th:only-of-type {\n",
       "        vertical-align: middle;\n",
       "    }\n",
       "\n",
       "    .dataframe tbody tr th {\n",
       "        vertical-align: top;\n",
       "    }\n",
       "\n",
       "    .dataframe thead th {\n",
       "        text-align: right;\n",
       "    }\n",
       "</style>\n",
       "<table border=\"1\" class=\"dataframe\">\n",
       "  <thead>\n",
       "    <tr style=\"text-align: right;\">\n",
       "      <th></th>\n",
       "      <th>total_bill</th>\n",
       "      <th>tip</th>\n",
       "      <th>sex</th>\n",
       "      <th>smoker</th>\n",
       "      <th>day</th>\n",
       "      <th>time</th>\n",
       "      <th>size</th>\n",
       "      <th>fraction</th>\n",
       "    </tr>\n",
       "  </thead>\n",
       "  <tbody>\n",
       "    <tr>\n",
       "      <td>0</td>\n",
       "      <td>16.99</td>\n",
       "      <td>1.01</td>\n",
       "      <td>Female</td>\n",
       "      <td>No</td>\n",
       "      <td>Sun</td>\n",
       "      <td>Dinner</td>\n",
       "      <td>2</td>\n",
       "      <td>0.059447</td>\n",
       "    </tr>\n",
       "    <tr>\n",
       "      <td>1</td>\n",
       "      <td>10.34</td>\n",
       "      <td>1.66</td>\n",
       "      <td>Male</td>\n",
       "      <td>No</td>\n",
       "      <td>Sun</td>\n",
       "      <td>Dinner</td>\n",
       "      <td>3</td>\n",
       "      <td>0.160542</td>\n",
       "    </tr>\n",
       "    <tr>\n",
       "      <td>2</td>\n",
       "      <td>21.01</td>\n",
       "      <td>3.50</td>\n",
       "      <td>Male</td>\n",
       "      <td>No</td>\n",
       "      <td>Sun</td>\n",
       "      <td>Dinner</td>\n",
       "      <td>3</td>\n",
       "      <td>0.166587</td>\n",
       "    </tr>\n",
       "    <tr>\n",
       "      <td>3</td>\n",
       "      <td>23.68</td>\n",
       "      <td>3.31</td>\n",
       "      <td>Male</td>\n",
       "      <td>No</td>\n",
       "      <td>Sun</td>\n",
       "      <td>Dinner</td>\n",
       "      <td>2</td>\n",
       "      <td>0.139780</td>\n",
       "    </tr>\n",
       "    <tr>\n",
       "      <td>4</td>\n",
       "      <td>24.59</td>\n",
       "      <td>3.61</td>\n",
       "      <td>Female</td>\n",
       "      <td>No</td>\n",
       "      <td>Sun</td>\n",
       "      <td>Dinner</td>\n",
       "      <td>4</td>\n",
       "      <td>0.146808</td>\n",
       "    </tr>\n",
       "  </tbody>\n",
       "</table>\n",
       "</div>"
      ],
      "text/plain": [
       "   total_bill   tip     sex smoker  day    time  size  fraction\n",
       "0       16.99  1.01  Female     No  Sun  Dinner     2  0.059447\n",
       "1       10.34  1.66    Male     No  Sun  Dinner     3  0.160542\n",
       "2       21.01  3.50    Male     No  Sun  Dinner     3  0.166587\n",
       "3       23.68  3.31    Male     No  Sun  Dinner     2  0.139780\n",
       "4       24.59  3.61  Female     No  Sun  Dinner     4  0.146808"
      ]
     },
     "execution_count": 17,
     "metadata": {},
     "output_type": "execute_result"
    }
   ],
   "source": [
    "df.head()"
   ]
  },
  {
   "cell_type": "code",
   "execution_count": 18,
   "metadata": {},
   "outputs": [
    {
     "data": {
      "text/plain": [
       "<matplotlib.axes._subplots.AxesSubplot at 0x1a1d6a0150>"
      ]
     },
     "execution_count": 18,
     "metadata": {},
     "output_type": "execute_result"
    },
    {
     "data": {
      "image/png": "[encoded data removed]",
      "text/plain": [
       "<Figure size 432x288 with 1 Axes>"
      ]
     },
     "metadata": {
      "needs_background": "light"
     },
     "output_type": "display_data"
    }
   ],
   "source": [
    "df['fraction'].plot(kind = 'hist')"
   ]
  },
  {
   "cell_type": "code",
   "execution_count": 21,
   "metadata": {},
   "outputs": [
    {
     "data": {
      "text/plain": [
       "<matplotlib.axes._subplots.AxesSubplot at 0x1a25edd310>"
      ]
     },
     "execution_count": 21,
     "metadata": {},
     "output_type": "execute_result"
    },
    {
     "data": {
      "image/png": "[encoded data removed]",
      "text/plain": [
       "<Figure size 432x288 with 2 Axes>"
      ]
     },
     "metadata": {
      "needs_background": "light"
     },
     "output_type": "display_data"
    }
   ],
   "source": [
    "fig, axes = plt.subplots(nrows=2, ncols=1)\n",
    "df['fraction'].plot(ax = axes[0])"
   ]
  },
  {
   "cell_type": "code",
   "execution_count": 22,
   "metadata": {},
   "outputs": [],
   "source": [
    "colnames = [\"mpg\",\n",
    "\"cylinders\",\n",
    "\"displacement\",\n",
    "\"hp\",\n",
    "\"weight\",\n",
    "\"acceleration\",\n",
    "\"modelyear\",\n",
    "\"origin\",\n",
    "\"carname\"]\n",
    "df_auto = pd.read_csv(\"datasets/auto-mpg.csv\", names = colnames, na_values='?')"
   ]
  },
  {
   "cell_type": "code",
   "execution_count": 23,
   "metadata": {},
   "outputs": [
    {
     "data": {
      "text/html": [
       "<div>\n",
       "<style scoped>\n",
       "    .dataframe tbody tr th:only-of-type {\n",
       "        vertical-align: middle;\n",
       "    }\n",
       "\n",
       "    .dataframe tbody tr th {\n",
       "        vertical-align: top;\n",
       "    }\n",
       "\n",
       "    .dataframe thead th {\n",
       "        text-align: right;\n",
       "    }\n",
       "</style>\n",
       "<table border=\"1\" class=\"dataframe\">\n",
       "  <thead>\n",
       "    <tr style=\"text-align: right;\">\n",
       "      <th></th>\n",
       "      <th>mpg</th>\n",
       "      <th>cylinders</th>\n",
       "      <th>displacement</th>\n",
       "      <th>hp</th>\n",
       "      <th>weight</th>\n",
       "      <th>acceleration</th>\n",
       "      <th>modelyear</th>\n",
       "      <th>origin</th>\n",
       "      <th>carname</th>\n",
       "    </tr>\n",
       "  </thead>\n",
       "  <tbody>\n",
       "    <tr>\n",
       "      <td>0</td>\n",
       "      <td>18.0</td>\n",
       "      <td>8.0</td>\n",
       "      <td>307.0</td>\n",
       "      <td>130.0</td>\n",
       "      <td>3504.0</td>\n",
       "      <td>12.0</td>\n",
       "      <td>70</td>\n",
       "      <td>1</td>\n",
       "      <td>chevrolet chevelle malibu</td>\n",
       "    </tr>\n",
       "    <tr>\n",
       "      <td>1</td>\n",
       "      <td>15.0</td>\n",
       "      <td>8.0</td>\n",
       "      <td>350.0</td>\n",
       "      <td>165.0</td>\n",
       "      <td>3693.0</td>\n",
       "      <td>11.5</td>\n",
       "      <td>70</td>\n",
       "      <td>1</td>\n",
       "      <td>buick skylark 320</td>\n",
       "    </tr>\n",
       "    <tr>\n",
       "      <td>2</td>\n",
       "      <td>18.0</td>\n",
       "      <td>8.0</td>\n",
       "      <td>318.0</td>\n",
       "      <td>150.0</td>\n",
       "      <td>3436.0</td>\n",
       "      <td>11.0</td>\n",
       "      <td>70</td>\n",
       "      <td>1</td>\n",
       "      <td>plymouth satellite</td>\n",
       "    </tr>\n",
       "    <tr>\n",
       "      <td>3</td>\n",
       "      <td>16.0</td>\n",
       "      <td>8.0</td>\n",
       "      <td>304.0</td>\n",
       "      <td>150.0</td>\n",
       "      <td>3433.0</td>\n",
       "      <td>12.0</td>\n",
       "      <td>70</td>\n",
       "      <td>1</td>\n",
       "      <td>amc rebel sst</td>\n",
       "    </tr>\n",
       "    <tr>\n",
       "      <td>4</td>\n",
       "      <td>17.0</td>\n",
       "      <td>8.0</td>\n",
       "      <td>302.0</td>\n",
       "      <td>140.0</td>\n",
       "      <td>3449.0</td>\n",
       "      <td>10.5</td>\n",
       "      <td>70</td>\n",
       "      <td>1</td>\n",
       "      <td>ford torino</td>\n",
       "    </tr>\n",
       "  </tbody>\n",
       "</table>\n",
       "</div>"
      ],
      "text/plain": [
       "    mpg  cylinders  displacement     hp  weight  acceleration  modelyear  \\\n",
       "0  18.0        8.0         307.0  130.0  3504.0          12.0         70   \n",
       "1  15.0        8.0         350.0  165.0  3693.0          11.5         70   \n",
       "2  18.0        8.0         318.0  150.0  3436.0          11.0         70   \n",
       "3  16.0        8.0         304.0  150.0  3433.0          12.0         70   \n",
       "4  17.0        8.0         302.0  140.0  3449.0          10.5         70   \n",
       "\n",
       "  origin                    carname  \n",
       "0      1  chevrolet chevelle malibu  \n",
       "1      1          buick skylark 320  \n",
       "2      1         plymouth satellite  \n",
       "3      1              amc rebel sst  \n",
       "4      1                ford torino  "
      ]
     },
     "execution_count": 23,
     "metadata": {},
     "output_type": "execute_result"
    }
   ],
   "source": [
    "df_auto.head()"
   ]
  },
  {
   "cell_type": "code",
   "execution_count": 24,
   "metadata": {},
   "outputs": [
    {
     "data": {
      "text/html": [
       "<div>\n",
       "<style scoped>\n",
       "    .dataframe tbody tr th:only-of-type {\n",
       "        vertical-align: middle;\n",
       "    }\n",
       "\n",
       "    .dataframe tbody tr th {\n",
       "        vertical-align: top;\n",
       "    }\n",
       "\n",
       "    .dataframe thead th {\n",
       "        text-align: right;\n",
       "    }\n",
       "</style>\n",
       "<table border=\"1\" class=\"dataframe\">\n",
       "  <thead>\n",
       "    <tr style=\"text-align: right;\">\n",
       "      <th></th>\n",
       "      <th>mpg</th>\n",
       "      <th>cylinders</th>\n",
       "      <th>displacement</th>\n",
       "      <th>hp</th>\n",
       "      <th>weight</th>\n",
       "      <th>acceleration</th>\n",
       "      <th>modelyear</th>\n",
       "    </tr>\n",
       "  </thead>\n",
       "  <tbody>\n",
       "    <tr>\n",
       "      <td>count</td>\n",
       "      <td>398.000000</td>\n",
       "      <td>398.000000</td>\n",
       "      <td>398.000000</td>\n",
       "      <td>392.000000</td>\n",
       "      <td>398.000000</td>\n",
       "      <td>398.000000</td>\n",
       "      <td>398.000000</td>\n",
       "    </tr>\n",
       "    <tr>\n",
       "      <td>mean</td>\n",
       "      <td>23.514774</td>\n",
       "      <td>6.198492</td>\n",
       "      <td>193.146985</td>\n",
       "      <td>116.048469</td>\n",
       "      <td>2958.581658</td>\n",
       "      <td>15.697487</td>\n",
       "      <td>75.836683</td>\n",
       "    </tr>\n",
       "    <tr>\n",
       "      <td>std</td>\n",
       "      <td>7.815611</td>\n",
       "      <td>15.060861</td>\n",
       "      <td>104.121679</td>\n",
       "      <td>236.842713</td>\n",
       "      <td>855.063246</td>\n",
       "      <td>3.876785</td>\n",
       "      <td>5.265348</td>\n",
       "    </tr>\n",
       "    <tr>\n",
       "      <td>min</td>\n",
       "      <td>9.080000</td>\n",
       "      <td>3.000000</td>\n",
       "      <td>68.000000</td>\n",
       "      <td>46.000000</td>\n",
       "      <td>18.500000</td>\n",
       "      <td>8.000000</td>\n",
       "      <td>1.000000</td>\n",
       "    </tr>\n",
       "    <tr>\n",
       "      <td>25%</td>\n",
       "      <td>17.500000</td>\n",
       "      <td>4.000000</td>\n",
       "      <td>104.250000</td>\n",
       "      <td>75.000000</td>\n",
       "      <td>2220.750000</td>\n",
       "      <td>13.825000</td>\n",
       "      <td>73.000000</td>\n",
       "    </tr>\n",
       "    <tr>\n",
       "      <td>50%</td>\n",
       "      <td>23.000000</td>\n",
       "      <td>4.000000</td>\n",
       "      <td>148.500000</td>\n",
       "      <td>93.500000</td>\n",
       "      <td>2797.500000</td>\n",
       "      <td>15.500000</td>\n",
       "      <td>76.000000</td>\n",
       "    </tr>\n",
       "    <tr>\n",
       "      <td>75%</td>\n",
       "      <td>29.000000</td>\n",
       "      <td>8.000000</td>\n",
       "      <td>261.500000</td>\n",
       "      <td>126.000000</td>\n",
       "      <td>3597.250000</td>\n",
       "      <td>17.175000</td>\n",
       "      <td>79.000000</td>\n",
       "    </tr>\n",
       "    <tr>\n",
       "      <td>max</td>\n",
       "      <td>46.600000</td>\n",
       "      <td>304.000000</td>\n",
       "      <td>455.000000</td>\n",
       "      <td>4732.000000</td>\n",
       "      <td>5140.000000</td>\n",
       "      <td>70.000000</td>\n",
       "      <td>82.000000</td>\n",
       "    </tr>\n",
       "  </tbody>\n",
       "</table>\n",
       "</div>"
      ],
      "text/plain": [
       "              mpg   cylinders  displacement           hp       weight  \\\n",
       "count  398.000000  398.000000    398.000000   392.000000   398.000000   \n",
       "mean    23.514774    6.198492    193.146985   116.048469  2958.581658   \n",
       "std      7.815611   15.060861    104.121679   236.842713   855.063246   \n",
       "min      9.080000    3.000000     68.000000    46.000000    18.500000   \n",
       "25%     17.500000    4.000000    104.250000    75.000000  2220.750000   \n",
       "50%     23.000000    4.000000    148.500000    93.500000  2797.500000   \n",
       "75%     29.000000    8.000000    261.500000   126.000000  3597.250000   \n",
       "max     46.600000  304.000000    455.000000  4732.000000  5140.000000   \n",
       "\n",
       "       acceleration   modelyear  \n",
       "count    398.000000  398.000000  \n",
       "mean      15.697487   75.836683  \n",
       "std        3.876785    5.265348  \n",
       "min        8.000000    1.000000  \n",
       "25%       13.825000   73.000000  \n",
       "50%       15.500000   76.000000  \n",
       "75%       17.175000   79.000000  \n",
       "max       70.000000   82.000000  "
      ]
     },
     "execution_count": 24,
     "metadata": {},
     "output_type": "execute_result"
    }
   ],
   "source": [
    "df_auto.describe()"
   ]
  },
  {
   "cell_type": "markdown",
   "metadata": {},
   "source": [
    "# percent-bachelors-degrees-women-usa data"
   ]
  },
  {
   "cell_type": "code",
   "execution_count": 44,
   "metadata": {},
   "outputs": [],
   "source": [
    "df = pd.read_csv(\"./datasets/percent-bachelors-degrees-women-usa.csv\", index_col='Year')"
   ]
  },
  {
   "cell_type": "code",
   "execution_count": 46,
   "metadata": {},
   "outputs": [
    {
     "data": {
      "text/html": [
       "<div>\n",
       "<style scoped>\n",
       "    .dataframe tbody tr th:only-of-type {\n",
       "        vertical-align: middle;\n",
       "    }\n",
       "\n",
       "    .dataframe tbody tr th {\n",
       "        vertical-align: top;\n",
       "    }\n",
       "\n",
       "    .dataframe thead th {\n",
       "        text-align: right;\n",
       "    }\n",
       "</style>\n",
       "<table border=\"1\" class=\"dataframe\">\n",
       "  <thead>\n",
       "    <tr style=\"text-align: right;\">\n",
       "      <th></th>\n",
       "      <th>Agriculture</th>\n",
       "      <th>Architecture</th>\n",
       "      <th>Art and Performance</th>\n",
       "      <th>Biology</th>\n",
       "      <th>Business</th>\n",
       "      <th>Communications and Journalism</th>\n",
       "      <th>Computer Science</th>\n",
       "      <th>Education</th>\n",
       "      <th>Engineering</th>\n",
       "      <th>English</th>\n",
       "      <th>Foreign Languages</th>\n",
       "      <th>Health Professions</th>\n",
       "      <th>Math and Statistics</th>\n",
       "      <th>Physical Sciences</th>\n",
       "      <th>Psychology</th>\n",
       "      <th>Public Administration</th>\n",
       "      <th>Social Sciences and History</th>\n",
       "    </tr>\n",
       "    <tr>\n",
       "      <th>Year</th>\n",
       "      <th></th>\n",
       "      <th></th>\n",
       "      <th></th>\n",
       "      <th></th>\n",
       "      <th></th>\n",
       "      <th></th>\n",
       "      <th></th>\n",
       "      <th></th>\n",
       "      <th></th>\n",
       "      <th></th>\n",
       "      <th></th>\n",
       "      <th></th>\n",
       "      <th></th>\n",
       "      <th></th>\n",
       "      <th></th>\n",
       "      <th></th>\n",
       "      <th></th>\n",
       "    </tr>\n",
       "  </thead>\n",
       "  <tbody>\n",
       "    <tr>\n",
       "      <td>1970</td>\n",
       "      <td>4.229798</td>\n",
       "      <td>11.921005</td>\n",
       "      <td>59.7</td>\n",
       "      <td>29.088363</td>\n",
       "      <td>9.064439</td>\n",
       "      <td>35.3</td>\n",
       "      <td>13.6</td>\n",
       "      <td>74.535328</td>\n",
       "      <td>0.8</td>\n",
       "      <td>65.570923</td>\n",
       "      <td>73.8</td>\n",
       "      <td>77.1</td>\n",
       "      <td>38.0</td>\n",
       "      <td>13.8</td>\n",
       "      <td>44.4</td>\n",
       "      <td>68.4</td>\n",
       "      <td>36.8</td>\n",
       "    </tr>\n",
       "    <tr>\n",
       "      <td>1971</td>\n",
       "      <td>5.452797</td>\n",
       "      <td>12.003106</td>\n",
       "      <td>59.9</td>\n",
       "      <td>29.394403</td>\n",
       "      <td>9.503187</td>\n",
       "      <td>35.5</td>\n",
       "      <td>13.6</td>\n",
       "      <td>74.149204</td>\n",
       "      <td>1.0</td>\n",
       "      <td>64.556485</td>\n",
       "      <td>73.9</td>\n",
       "      <td>75.5</td>\n",
       "      <td>39.0</td>\n",
       "      <td>14.9</td>\n",
       "      <td>46.2</td>\n",
       "      <td>65.5</td>\n",
       "      <td>36.2</td>\n",
       "    </tr>\n",
       "    <tr>\n",
       "      <td>1972</td>\n",
       "      <td>7.420710</td>\n",
       "      <td>13.214594</td>\n",
       "      <td>60.4</td>\n",
       "      <td>29.810221</td>\n",
       "      <td>10.558962</td>\n",
       "      <td>36.6</td>\n",
       "      <td>14.9</td>\n",
       "      <td>73.554520</td>\n",
       "      <td>1.2</td>\n",
       "      <td>63.664263</td>\n",
       "      <td>74.6</td>\n",
       "      <td>76.9</td>\n",
       "      <td>40.2</td>\n",
       "      <td>14.8</td>\n",
       "      <td>47.6</td>\n",
       "      <td>62.6</td>\n",
       "      <td>36.1</td>\n",
       "    </tr>\n",
       "    <tr>\n",
       "      <td>1973</td>\n",
       "      <td>9.653602</td>\n",
       "      <td>14.791613</td>\n",
       "      <td>60.2</td>\n",
       "      <td>31.147915</td>\n",
       "      <td>12.804602</td>\n",
       "      <td>38.4</td>\n",
       "      <td>16.4</td>\n",
       "      <td>73.501814</td>\n",
       "      <td>1.6</td>\n",
       "      <td>62.941502</td>\n",
       "      <td>74.9</td>\n",
       "      <td>77.4</td>\n",
       "      <td>40.9</td>\n",
       "      <td>16.5</td>\n",
       "      <td>50.4</td>\n",
       "      <td>64.3</td>\n",
       "      <td>36.4</td>\n",
       "    </tr>\n",
       "    <tr>\n",
       "      <td>1974</td>\n",
       "      <td>14.074623</td>\n",
       "      <td>17.444688</td>\n",
       "      <td>61.9</td>\n",
       "      <td>32.996183</td>\n",
       "      <td>16.204850</td>\n",
       "      <td>40.5</td>\n",
       "      <td>18.9</td>\n",
       "      <td>73.336811</td>\n",
       "      <td>2.2</td>\n",
       "      <td>62.413412</td>\n",
       "      <td>75.3</td>\n",
       "      <td>77.9</td>\n",
       "      <td>41.8</td>\n",
       "      <td>18.2</td>\n",
       "      <td>52.6</td>\n",
       "      <td>66.1</td>\n",
       "      <td>37.3</td>\n",
       "    </tr>\n",
       "    <tr>\n",
       "      <td>1975</td>\n",
       "      <td>18.333162</td>\n",
       "      <td>19.134048</td>\n",
       "      <td>60.9</td>\n",
       "      <td>34.449902</td>\n",
       "      <td>19.686249</td>\n",
       "      <td>41.5</td>\n",
       "      <td>19.8</td>\n",
       "      <td>72.801854</td>\n",
       "      <td>3.2</td>\n",
       "      <td>61.647206</td>\n",
       "      <td>75.0</td>\n",
       "      <td>78.9</td>\n",
       "      <td>40.7</td>\n",
       "      <td>19.1</td>\n",
       "      <td>54.5</td>\n",
       "      <td>63.0</td>\n",
       "      <td>37.7</td>\n",
       "    </tr>\n",
       "    <tr>\n",
       "      <td>1976</td>\n",
       "      <td>22.252760</td>\n",
       "      <td>21.394491</td>\n",
       "      <td>61.3</td>\n",
       "      <td>36.072871</td>\n",
       "      <td>23.430038</td>\n",
       "      <td>44.3</td>\n",
       "      <td>23.9</td>\n",
       "      <td>72.166525</td>\n",
       "      <td>4.5</td>\n",
       "      <td>62.148194</td>\n",
       "      <td>74.4</td>\n",
       "      <td>79.2</td>\n",
       "      <td>41.5</td>\n",
       "      <td>20.0</td>\n",
       "      <td>56.9</td>\n",
       "      <td>65.6</td>\n",
       "      <td>39.2</td>\n",
       "    </tr>\n",
       "    <tr>\n",
       "      <td>1977</td>\n",
       "      <td>24.640177</td>\n",
       "      <td>23.740541</td>\n",
       "      <td>62.0</td>\n",
       "      <td>38.331386</td>\n",
       "      <td>27.163427</td>\n",
       "      <td>46.9</td>\n",
       "      <td>25.7</td>\n",
       "      <td>72.456395</td>\n",
       "      <td>6.8</td>\n",
       "      <td>62.723067</td>\n",
       "      <td>74.3</td>\n",
       "      <td>80.5</td>\n",
       "      <td>41.1</td>\n",
       "      <td>21.3</td>\n",
       "      <td>59.0</td>\n",
       "      <td>69.3</td>\n",
       "      <td>40.5</td>\n",
       "    </tr>\n",
       "    <tr>\n",
       "      <td>1978</td>\n",
       "      <td>27.146192</td>\n",
       "      <td>25.849240</td>\n",
       "      <td>62.5</td>\n",
       "      <td>40.112496</td>\n",
       "      <td>30.527519</td>\n",
       "      <td>49.9</td>\n",
       "      <td>28.1</td>\n",
       "      <td>73.192821</td>\n",
       "      <td>8.4</td>\n",
       "      <td>63.619122</td>\n",
       "      <td>74.3</td>\n",
       "      <td>81.9</td>\n",
       "      <td>41.6</td>\n",
       "      <td>22.5</td>\n",
       "      <td>61.3</td>\n",
       "      <td>71.5</td>\n",
       "      <td>41.8</td>\n",
       "    </tr>\n",
       "    <tr>\n",
       "      <td>1979</td>\n",
       "      <td>29.633365</td>\n",
       "      <td>27.770477</td>\n",
       "      <td>63.2</td>\n",
       "      <td>42.065551</td>\n",
       "      <td>33.621634</td>\n",
       "      <td>52.3</td>\n",
       "      <td>30.2</td>\n",
       "      <td>73.821142</td>\n",
       "      <td>9.4</td>\n",
       "      <td>65.088390</td>\n",
       "      <td>74.2</td>\n",
       "      <td>82.3</td>\n",
       "      <td>42.3</td>\n",
       "      <td>23.7</td>\n",
       "      <td>63.3</td>\n",
       "      <td>73.3</td>\n",
       "      <td>43.6</td>\n",
       "    </tr>\n",
       "    <tr>\n",
       "      <td>1980</td>\n",
       "      <td>30.759390</td>\n",
       "      <td>28.080381</td>\n",
       "      <td>63.4</td>\n",
       "      <td>43.999257</td>\n",
       "      <td>36.765725</td>\n",
       "      <td>54.7</td>\n",
       "      <td>32.5</td>\n",
       "      <td>74.981032</td>\n",
       "      <td>10.3</td>\n",
       "      <td>65.284130</td>\n",
       "      <td>74.1</td>\n",
       "      <td>83.5</td>\n",
       "      <td>42.8</td>\n",
       "      <td>24.6</td>\n",
       "      <td>65.1</td>\n",
       "      <td>74.6</td>\n",
       "      <td>44.2</td>\n",
       "    </tr>\n",
       "    <tr>\n",
       "      <td>1981</td>\n",
       "      <td>31.318655</td>\n",
       "      <td>29.841694</td>\n",
       "      <td>63.3</td>\n",
       "      <td>45.249512</td>\n",
       "      <td>39.266230</td>\n",
       "      <td>56.4</td>\n",
       "      <td>34.8</td>\n",
       "      <td>75.845123</td>\n",
       "      <td>11.6</td>\n",
       "      <td>65.838322</td>\n",
       "      <td>73.9</td>\n",
       "      <td>84.1</td>\n",
       "      <td>43.2</td>\n",
       "      <td>25.7</td>\n",
       "      <td>66.9</td>\n",
       "      <td>74.7</td>\n",
       "      <td>44.6</td>\n",
       "    </tr>\n",
       "    <tr>\n",
       "      <td>1982</td>\n",
       "      <td>32.636664</td>\n",
       "      <td>34.816248</td>\n",
       "      <td>63.1</td>\n",
       "      <td>45.967338</td>\n",
       "      <td>41.949373</td>\n",
       "      <td>58.0</td>\n",
       "      <td>36.3</td>\n",
       "      <td>75.843649</td>\n",
       "      <td>12.4</td>\n",
       "      <td>65.847352</td>\n",
       "      <td>72.7</td>\n",
       "      <td>84.4</td>\n",
       "      <td>44.0</td>\n",
       "      <td>27.3</td>\n",
       "      <td>67.5</td>\n",
       "      <td>76.8</td>\n",
       "      <td>44.6</td>\n",
       "    </tr>\n",
       "    <tr>\n",
       "      <td>1983</td>\n",
       "      <td>31.635347</td>\n",
       "      <td>35.826257</td>\n",
       "      <td>62.4</td>\n",
       "      <td>46.713135</td>\n",
       "      <td>43.542070</td>\n",
       "      <td>58.6</td>\n",
       "      <td>37.1</td>\n",
       "      <td>75.950601</td>\n",
       "      <td>13.1</td>\n",
       "      <td>65.918380</td>\n",
       "      <td>71.8</td>\n",
       "      <td>84.6</td>\n",
       "      <td>44.3</td>\n",
       "      <td>27.6</td>\n",
       "      <td>67.9</td>\n",
       "      <td>76.1</td>\n",
       "      <td>44.1</td>\n",
       "    </tr>\n",
       "    <tr>\n",
       "      <td>1984</td>\n",
       "      <td>31.092947</td>\n",
       "      <td>35.453083</td>\n",
       "      <td>62.1</td>\n",
       "      <td>47.669083</td>\n",
       "      <td>45.124030</td>\n",
       "      <td>59.1</td>\n",
       "      <td>36.8</td>\n",
       "      <td>75.869116</td>\n",
       "      <td>13.5</td>\n",
       "      <td>65.749862</td>\n",
       "      <td>72.1</td>\n",
       "      <td>85.1</td>\n",
       "      <td>46.2</td>\n",
       "      <td>28.0</td>\n",
       "      <td>68.2</td>\n",
       "      <td>75.9</td>\n",
       "      <td>44.1</td>\n",
       "    </tr>\n",
       "    <tr>\n",
       "      <td>1985</td>\n",
       "      <td>31.379659</td>\n",
       "      <td>36.133348</td>\n",
       "      <td>61.8</td>\n",
       "      <td>47.909884</td>\n",
       "      <td>45.747782</td>\n",
       "      <td>59.0</td>\n",
       "      <td>35.7</td>\n",
       "      <td>75.923440</td>\n",
       "      <td>13.5</td>\n",
       "      <td>65.798199</td>\n",
       "      <td>70.8</td>\n",
       "      <td>85.3</td>\n",
       "      <td>46.5</td>\n",
       "      <td>27.5</td>\n",
       "      <td>69.0</td>\n",
       "      <td>75.0</td>\n",
       "      <td>43.8</td>\n",
       "    </tr>\n",
       "    <tr>\n",
       "      <td>1986</td>\n",
       "      <td>31.198719</td>\n",
       "      <td>37.240223</td>\n",
       "      <td>62.1</td>\n",
       "      <td>48.300678</td>\n",
       "      <td>46.532915</td>\n",
       "      <td>60.0</td>\n",
       "      <td>34.7</td>\n",
       "      <td>76.143015</td>\n",
       "      <td>13.9</td>\n",
       "      <td>65.982561</td>\n",
       "      <td>71.2</td>\n",
       "      <td>85.7</td>\n",
       "      <td>46.7</td>\n",
       "      <td>28.4</td>\n",
       "      <td>69.0</td>\n",
       "      <td>75.7</td>\n",
       "      <td>44.0</td>\n",
       "    </tr>\n",
       "    <tr>\n",
       "      <td>1987</td>\n",
       "      <td>31.486429</td>\n",
       "      <td>38.730675</td>\n",
       "      <td>61.7</td>\n",
       "      <td>50.209878</td>\n",
       "      <td>46.690466</td>\n",
       "      <td>60.2</td>\n",
       "      <td>32.4</td>\n",
       "      <td>76.963092</td>\n",
       "      <td>14.0</td>\n",
       "      <td>66.706031</td>\n",
       "      <td>72.0</td>\n",
       "      <td>85.5</td>\n",
       "      <td>46.5</td>\n",
       "      <td>30.4</td>\n",
       "      <td>70.1</td>\n",
       "      <td>76.4</td>\n",
       "      <td>43.9</td>\n",
       "    </tr>\n",
       "    <tr>\n",
       "      <td>1988</td>\n",
       "      <td>31.085087</td>\n",
       "      <td>39.398907</td>\n",
       "      <td>61.7</td>\n",
       "      <td>50.099811</td>\n",
       "      <td>46.764828</td>\n",
       "      <td>60.4</td>\n",
       "      <td>30.8</td>\n",
       "      <td>77.627662</td>\n",
       "      <td>13.9</td>\n",
       "      <td>67.144498</td>\n",
       "      <td>72.3</td>\n",
       "      <td>85.2</td>\n",
       "      <td>46.2</td>\n",
       "      <td>29.7</td>\n",
       "      <td>70.9</td>\n",
       "      <td>75.6</td>\n",
       "      <td>44.4</td>\n",
       "    </tr>\n",
       "    <tr>\n",
       "      <td>1989</td>\n",
       "      <td>31.612403</td>\n",
       "      <td>39.096540</td>\n",
       "      <td>62.0</td>\n",
       "      <td>50.774716</td>\n",
       "      <td>46.781565</td>\n",
       "      <td>60.5</td>\n",
       "      <td>29.9</td>\n",
       "      <td>78.111919</td>\n",
       "      <td>14.1</td>\n",
       "      <td>67.017072</td>\n",
       "      <td>72.4</td>\n",
       "      <td>84.6</td>\n",
       "      <td>46.2</td>\n",
       "      <td>31.3</td>\n",
       "      <td>71.6</td>\n",
       "      <td>76.0</td>\n",
       "      <td>44.2</td>\n",
       "    </tr>\n",
       "    <tr>\n",
       "      <td>1990</td>\n",
       "      <td>32.703444</td>\n",
       "      <td>40.824047</td>\n",
       "      <td>62.6</td>\n",
       "      <td>50.818094</td>\n",
       "      <td>47.200851</td>\n",
       "      <td>60.8</td>\n",
       "      <td>29.4</td>\n",
       "      <td>78.866859</td>\n",
       "      <td>14.1</td>\n",
       "      <td>66.921902</td>\n",
       "      <td>71.2</td>\n",
       "      <td>83.9</td>\n",
       "      <td>47.3</td>\n",
       "      <td>31.6</td>\n",
       "      <td>72.6</td>\n",
       "      <td>77.6</td>\n",
       "      <td>45.1</td>\n",
       "    </tr>\n",
       "    <tr>\n",
       "      <td>1991</td>\n",
       "      <td>34.711837</td>\n",
       "      <td>33.679881</td>\n",
       "      <td>62.1</td>\n",
       "      <td>51.468805</td>\n",
       "      <td>47.224325</td>\n",
       "      <td>60.8</td>\n",
       "      <td>28.7</td>\n",
       "      <td>78.991246</td>\n",
       "      <td>14.0</td>\n",
       "      <td>66.241475</td>\n",
       "      <td>71.1</td>\n",
       "      <td>83.5</td>\n",
       "      <td>47.0</td>\n",
       "      <td>32.6</td>\n",
       "      <td>73.2</td>\n",
       "      <td>78.2</td>\n",
       "      <td>45.5</td>\n",
       "    </tr>\n",
       "    <tr>\n",
       "      <td>1992</td>\n",
       "      <td>33.931660</td>\n",
       "      <td>35.202356</td>\n",
       "      <td>61.0</td>\n",
       "      <td>51.349742</td>\n",
       "      <td>47.219395</td>\n",
       "      <td>59.7</td>\n",
       "      <td>28.2</td>\n",
       "      <td>78.435182</td>\n",
       "      <td>14.5</td>\n",
       "      <td>65.622457</td>\n",
       "      <td>71.0</td>\n",
       "      <td>83.0</td>\n",
       "      <td>47.4</td>\n",
       "      <td>32.6</td>\n",
       "      <td>73.2</td>\n",
       "      <td>77.3</td>\n",
       "      <td>45.8</td>\n",
       "    </tr>\n",
       "    <tr>\n",
       "      <td>1993</td>\n",
       "      <td>34.946832</td>\n",
       "      <td>35.777159</td>\n",
       "      <td>60.2</td>\n",
       "      <td>51.124844</td>\n",
       "      <td>47.639332</td>\n",
       "      <td>58.7</td>\n",
       "      <td>28.5</td>\n",
       "      <td>77.267312</td>\n",
       "      <td>14.9</td>\n",
       "      <td>65.730950</td>\n",
       "      <td>70.0</td>\n",
       "      <td>82.4</td>\n",
       "      <td>46.4</td>\n",
       "      <td>33.6</td>\n",
       "      <td>73.1</td>\n",
       "      <td>78.0</td>\n",
       "      <td>46.1</td>\n",
       "    </tr>\n",
       "    <tr>\n",
       "      <td>1994</td>\n",
       "      <td>36.032674</td>\n",
       "      <td>34.433531</td>\n",
       "      <td>59.4</td>\n",
       "      <td>52.246218</td>\n",
       "      <td>47.983924</td>\n",
       "      <td>58.1</td>\n",
       "      <td>28.5</td>\n",
       "      <td>75.814933</td>\n",
       "      <td>15.7</td>\n",
       "      <td>65.641978</td>\n",
       "      <td>69.1</td>\n",
       "      <td>81.8</td>\n",
       "      <td>47.0</td>\n",
       "      <td>34.8</td>\n",
       "      <td>72.9</td>\n",
       "      <td>78.8</td>\n",
       "      <td>46.8</td>\n",
       "    </tr>\n",
       "    <tr>\n",
       "      <td>1995</td>\n",
       "      <td>36.844807</td>\n",
       "      <td>36.063218</td>\n",
       "      <td>59.2</td>\n",
       "      <td>52.599403</td>\n",
       "      <td>48.573181</td>\n",
       "      <td>58.8</td>\n",
       "      <td>27.5</td>\n",
       "      <td>75.125256</td>\n",
       "      <td>16.2</td>\n",
       "      <td>65.936949</td>\n",
       "      <td>69.6</td>\n",
       "      <td>81.5</td>\n",
       "      <td>46.1</td>\n",
       "      <td>35.9</td>\n",
       "      <td>73.0</td>\n",
       "      <td>78.8</td>\n",
       "      <td>47.9</td>\n",
       "    </tr>\n",
       "    <tr>\n",
       "      <td>1996</td>\n",
       "      <td>38.969775</td>\n",
       "      <td>35.926485</td>\n",
       "      <td>58.6</td>\n",
       "      <td>53.789880</td>\n",
       "      <td>48.647393</td>\n",
       "      <td>58.7</td>\n",
       "      <td>27.1</td>\n",
       "      <td>75.035199</td>\n",
       "      <td>16.7</td>\n",
       "      <td>66.437779</td>\n",
       "      <td>69.7</td>\n",
       "      <td>81.3</td>\n",
       "      <td>46.4</td>\n",
       "      <td>37.3</td>\n",
       "      <td>73.9</td>\n",
       "      <td>79.8</td>\n",
       "      <td>48.7</td>\n",
       "    </tr>\n",
       "    <tr>\n",
       "      <td>1997</td>\n",
       "      <td>40.685685</td>\n",
       "      <td>35.101934</td>\n",
       "      <td>58.7</td>\n",
       "      <td>54.999469</td>\n",
       "      <td>48.561050</td>\n",
       "      <td>60.0</td>\n",
       "      <td>26.8</td>\n",
       "      <td>75.163701</td>\n",
       "      <td>17.0</td>\n",
       "      <td>66.786355</td>\n",
       "      <td>70.0</td>\n",
       "      <td>81.9</td>\n",
       "      <td>47.0</td>\n",
       "      <td>38.3</td>\n",
       "      <td>74.4</td>\n",
       "      <td>81.0</td>\n",
       "      <td>49.2</td>\n",
       "    </tr>\n",
       "    <tr>\n",
       "      <td>1998</td>\n",
       "      <td>41.912403</td>\n",
       "      <td>37.598545</td>\n",
       "      <td>59.1</td>\n",
       "      <td>56.351248</td>\n",
       "      <td>49.258515</td>\n",
       "      <td>60.0</td>\n",
       "      <td>27.0</td>\n",
       "      <td>75.486160</td>\n",
       "      <td>17.8</td>\n",
       "      <td>67.255448</td>\n",
       "      <td>70.1</td>\n",
       "      <td>82.1</td>\n",
       "      <td>48.3</td>\n",
       "      <td>39.7</td>\n",
       "      <td>75.1</td>\n",
       "      <td>81.3</td>\n",
       "      <td>50.5</td>\n",
       "    </tr>\n",
       "    <tr>\n",
       "      <td>1999</td>\n",
       "      <td>42.887202</td>\n",
       "      <td>38.631529</td>\n",
       "      <td>59.2</td>\n",
       "      <td>58.228823</td>\n",
       "      <td>49.810208</td>\n",
       "      <td>61.2</td>\n",
       "      <td>28.1</td>\n",
       "      <td>75.838162</td>\n",
       "      <td>18.6</td>\n",
       "      <td>67.820221</td>\n",
       "      <td>70.9</td>\n",
       "      <td>83.5</td>\n",
       "      <td>47.8</td>\n",
       "      <td>40.2</td>\n",
       "      <td>76.5</td>\n",
       "      <td>81.1</td>\n",
       "      <td>51.2</td>\n",
       "    </tr>\n",
       "    <tr>\n",
       "      <td>2000</td>\n",
       "      <td>45.057766</td>\n",
       "      <td>40.023585</td>\n",
       "      <td>59.2</td>\n",
       "      <td>59.389857</td>\n",
       "      <td>49.803616</td>\n",
       "      <td>61.9</td>\n",
       "      <td>27.7</td>\n",
       "      <td>76.692143</td>\n",
       "      <td>18.4</td>\n",
       "      <td>68.365995</td>\n",
       "      <td>70.9</td>\n",
       "      <td>83.5</td>\n",
       "      <td>48.2</td>\n",
       "      <td>41.0</td>\n",
       "      <td>77.5</td>\n",
       "      <td>81.1</td>\n",
       "      <td>51.8</td>\n",
       "    </tr>\n",
       "    <tr>\n",
       "      <td>2001</td>\n",
       "      <td>45.866015</td>\n",
       "      <td>40.690282</td>\n",
       "      <td>59.4</td>\n",
       "      <td>60.712331</td>\n",
       "      <td>50.275145</td>\n",
       "      <td>63.0</td>\n",
       "      <td>27.6</td>\n",
       "      <td>77.375229</td>\n",
       "      <td>19.0</td>\n",
       "      <td>68.578520</td>\n",
       "      <td>71.2</td>\n",
       "      <td>85.1</td>\n",
       "      <td>47.0</td>\n",
       "      <td>42.2</td>\n",
       "      <td>77.5</td>\n",
       "      <td>80.9</td>\n",
       "      <td>51.7</td>\n",
       "    </tr>\n",
       "    <tr>\n",
       "      <td>2002</td>\n",
       "      <td>47.134658</td>\n",
       "      <td>41.132951</td>\n",
       "      <td>60.9</td>\n",
       "      <td>61.895128</td>\n",
       "      <td>50.552335</td>\n",
       "      <td>63.7</td>\n",
       "      <td>27.0</td>\n",
       "      <td>78.644244</td>\n",
       "      <td>18.7</td>\n",
       "      <td>68.829960</td>\n",
       "      <td>70.5</td>\n",
       "      <td>85.8</td>\n",
       "      <td>45.7</td>\n",
       "      <td>41.1</td>\n",
       "      <td>77.7</td>\n",
       "      <td>81.3</td>\n",
       "      <td>51.5</td>\n",
       "    </tr>\n",
       "    <tr>\n",
       "      <td>2003</td>\n",
       "      <td>47.935187</td>\n",
       "      <td>42.758543</td>\n",
       "      <td>61.1</td>\n",
       "      <td>62.169456</td>\n",
       "      <td>50.345598</td>\n",
       "      <td>64.6</td>\n",
       "      <td>25.1</td>\n",
       "      <td>78.544948</td>\n",
       "      <td>18.8</td>\n",
       "      <td>68.894487</td>\n",
       "      <td>70.6</td>\n",
       "      <td>86.5</td>\n",
       "      <td>46.0</td>\n",
       "      <td>41.7</td>\n",
       "      <td>77.8</td>\n",
       "      <td>81.5</td>\n",
       "      <td>50.9</td>\n",
       "    </tr>\n",
       "    <tr>\n",
       "      <td>2004</td>\n",
       "      <td>47.887140</td>\n",
       "      <td>43.466493</td>\n",
       "      <td>61.3</td>\n",
       "      <td>61.914587</td>\n",
       "      <td>49.950894</td>\n",
       "      <td>64.2</td>\n",
       "      <td>22.2</td>\n",
       "      <td>78.650748</td>\n",
       "      <td>18.2</td>\n",
       "      <td>68.454734</td>\n",
       "      <td>70.8</td>\n",
       "      <td>86.5</td>\n",
       "      <td>44.7</td>\n",
       "      <td>42.1</td>\n",
       "      <td>77.8</td>\n",
       "      <td>80.7</td>\n",
       "      <td>50.5</td>\n",
       "    </tr>\n",
       "    <tr>\n",
       "      <td>2005</td>\n",
       "      <td>47.672754</td>\n",
       "      <td>43.100368</td>\n",
       "      <td>61.4</td>\n",
       "      <td>61.500984</td>\n",
       "      <td>49.791851</td>\n",
       "      <td>63.4</td>\n",
       "      <td>20.6</td>\n",
       "      <td>79.067122</td>\n",
       "      <td>17.9</td>\n",
       "      <td>68.571221</td>\n",
       "      <td>69.9</td>\n",
       "      <td>86.0</td>\n",
       "      <td>45.1</td>\n",
       "      <td>41.6</td>\n",
       "      <td>77.5</td>\n",
       "      <td>81.2</td>\n",
       "      <td>50.0</td>\n",
       "    </tr>\n",
       "    <tr>\n",
       "      <td>2006</td>\n",
       "      <td>46.790300</td>\n",
       "      <td>44.499331</td>\n",
       "      <td>61.6</td>\n",
       "      <td>60.172845</td>\n",
       "      <td>49.210914</td>\n",
       "      <td>63.0</td>\n",
       "      <td>18.6</td>\n",
       "      <td>78.686306</td>\n",
       "      <td>16.8</td>\n",
       "      <td>68.297594</td>\n",
       "      <td>69.6</td>\n",
       "      <td>85.9</td>\n",
       "      <td>44.1</td>\n",
       "      <td>40.8</td>\n",
       "      <td>77.4</td>\n",
       "      <td>81.2</td>\n",
       "      <td>49.8</td>\n",
       "    </tr>\n",
       "    <tr>\n",
       "      <td>2007</td>\n",
       "      <td>47.605026</td>\n",
       "      <td>43.100459</td>\n",
       "      <td>61.4</td>\n",
       "      <td>59.411993</td>\n",
       "      <td>49.000459</td>\n",
       "      <td>62.5</td>\n",
       "      <td>17.6</td>\n",
       "      <td>78.721413</td>\n",
       "      <td>16.8</td>\n",
       "      <td>67.874923</td>\n",
       "      <td>70.2</td>\n",
       "      <td>85.4</td>\n",
       "      <td>44.1</td>\n",
       "      <td>40.7</td>\n",
       "      <td>77.1</td>\n",
       "      <td>82.1</td>\n",
       "      <td>49.3</td>\n",
       "    </tr>\n",
       "    <tr>\n",
       "      <td>2008</td>\n",
       "      <td>47.570834</td>\n",
       "      <td>42.711730</td>\n",
       "      <td>60.7</td>\n",
       "      <td>59.305765</td>\n",
       "      <td>48.888027</td>\n",
       "      <td>62.4</td>\n",
       "      <td>17.8</td>\n",
       "      <td>79.196327</td>\n",
       "      <td>16.5</td>\n",
       "      <td>67.594028</td>\n",
       "      <td>70.2</td>\n",
       "      <td>85.2</td>\n",
       "      <td>43.3</td>\n",
       "      <td>40.7</td>\n",
       "      <td>77.2</td>\n",
       "      <td>81.7</td>\n",
       "      <td>49.4</td>\n",
       "    </tr>\n",
       "    <tr>\n",
       "      <td>2009</td>\n",
       "      <td>48.667224</td>\n",
       "      <td>43.348921</td>\n",
       "      <td>61.0</td>\n",
       "      <td>58.489583</td>\n",
       "      <td>48.840474</td>\n",
       "      <td>62.8</td>\n",
       "      <td>18.1</td>\n",
       "      <td>79.532909</td>\n",
       "      <td>16.8</td>\n",
       "      <td>67.969792</td>\n",
       "      <td>69.3</td>\n",
       "      <td>85.1</td>\n",
       "      <td>43.3</td>\n",
       "      <td>40.7</td>\n",
       "      <td>77.1</td>\n",
       "      <td>82.0</td>\n",
       "      <td>49.4</td>\n",
       "    </tr>\n",
       "    <tr>\n",
       "      <td>2010</td>\n",
       "      <td>48.730042</td>\n",
       "      <td>42.066721</td>\n",
       "      <td>61.3</td>\n",
       "      <td>59.010255</td>\n",
       "      <td>48.757988</td>\n",
       "      <td>62.5</td>\n",
       "      <td>17.6</td>\n",
       "      <td>79.618625</td>\n",
       "      <td>17.2</td>\n",
       "      <td>67.928106</td>\n",
       "      <td>69.0</td>\n",
       "      <td>85.0</td>\n",
       "      <td>43.1</td>\n",
       "      <td>40.2</td>\n",
       "      <td>77.0</td>\n",
       "      <td>81.7</td>\n",
       "      <td>49.3</td>\n",
       "    </tr>\n",
       "    <tr>\n",
       "      <td>2011</td>\n",
       "      <td>50.037182</td>\n",
       "      <td>42.773438</td>\n",
       "      <td>61.2</td>\n",
       "      <td>58.742397</td>\n",
       "      <td>48.180418</td>\n",
       "      <td>62.2</td>\n",
       "      <td>18.2</td>\n",
       "      <td>79.432812</td>\n",
       "      <td>17.5</td>\n",
       "      <td>68.426730</td>\n",
       "      <td>69.5</td>\n",
       "      <td>84.8</td>\n",
       "      <td>43.1</td>\n",
       "      <td>40.1</td>\n",
       "      <td>76.7</td>\n",
       "      <td>81.9</td>\n",
       "      <td>49.2</td>\n",
       "    </tr>\n",
       "  </tbody>\n",
       "</table>\n",
       "</div>"
      ],
      "text/plain": [
       "      Agriculture  Architecture  Art and Performance    Biology   Business  \\\n",
       "Year                                                                         \n",
       "1970     4.229798     11.921005                 59.7  29.088363   9.064439   \n",
       "1971     5.452797     12.003106                 59.9  29.394403   9.503187   \n",
       "1972     7.420710     13.214594                 60.4  29.810221  10.558962   \n",
       "1973     9.653602     14.791613                 60.2  31.147915  12.804602   \n",
       "1974    14.074623     17.444688                 61.9  32.996183  16.204850   \n",
       "1975    18.333162     19.134048                 60.9  34.449902  19.686249   \n",
       "1976    22.252760     21.394491                 61.3  36.072871  23.430038   \n",
       "1977    24.640177     23.740541                 62.0  38.331386  27.163427   \n",
       "1978    27.146192     25.849240                 62.5  40.112496  30.527519   \n",
       "1979    29.633365     27.770477                 63.2  42.065551  33.621634   \n",
       "1980    30.759390     28.080381                 63.4  43.999257  36.765725   \n",
       "1981    31.318655     29.841694                 63.3  45.249512  39.266230   \n",
       "1982    32.636664     34.816248                 63.1  45.967338  41.949373   \n",
       "1983    31.635347     35.826257                 62.4  46.713135  43.542070   \n",
       "1984    31.092947     35.453083                 62.1  47.669083  45.124030   \n",
       "1985    31.379659     36.133348                 61.8  47.909884  45.747782   \n",
       "1986    31.198719     37.240223                 62.1  48.300678  46.532915   \n",
       "1987    31.486429     38.730675                 61.7  50.209878  46.690466   \n",
       "1988    31.085087     39.398907                 61.7  50.099811  46.764828   \n",
       "1989    31.612403     39.096540                 62.0  50.774716  46.781565   \n",
       "1990    32.703444     40.824047                 62.6  50.818094  47.200851   \n",
       "1991    34.711837     33.679881                 62.1  51.468805  47.224325   \n",
       "1992    33.931660     35.202356                 61.0  51.349742  47.219395   \n",
       "1993    34.946832     35.777159                 60.2  51.124844  47.639332   \n",
       "1994    36.032674     34.433531                 59.4  52.246218  47.983924   \n",
       "1995    36.844807     36.063218                 59.2  52.599403  48.573181   \n",
       "1996    38.969775     35.926485                 58.6  53.789880  48.647393   \n",
       "1997    40.685685     35.101934                 58.7  54.999469  48.561050   \n",
       "1998    41.912403     37.598545                 59.1  56.351248  49.258515   \n",
       "1999    42.887202     38.631529                 59.2  58.228823  49.810208   \n",
       "2000    45.057766     40.023585                 59.2  59.389857  49.803616   \n",
       "2001    45.866015     40.690282                 59.4  60.712331  50.275145   \n",
       "2002    47.134658     41.132951                 60.9  61.895128  50.552335   \n",
       "2003    47.935187     42.758543                 61.1  62.169456  50.345598   \n",
       "2004    47.887140     43.466493                 61.3  61.914587  49.950894   \n",
       "2005    47.672754     43.100368                 61.4  61.500984  49.791851   \n",
       "2006    46.790300     44.499331                 61.6  60.172845  49.210914   \n",
       "2007    47.605026     43.100459                 61.4  59.411993  49.000459   \n",
       "2008    47.570834     42.711730                 60.7  59.305765  48.888027   \n",
       "2009    48.667224     43.348921                 61.0  58.489583  48.840474   \n",
       "2010    48.730042     42.066721                 61.3  59.010255  48.757988   \n",
       "2011    50.037182     42.773438                 61.2  58.742397  48.180418   \n",
       "\n",
       "      Communications and Journalism  Computer Science  Education  Engineering  \\\n",
       "Year                                                                            \n",
       "1970                           35.3              13.6  74.535328          0.8   \n",
       "1971                           35.5              13.6  74.149204          1.0   \n",
       "1972                           36.6              14.9  73.554520          1.2   \n",
       "1973                           38.4              16.4  73.501814          1.6   \n",
       "1974                           40.5              18.9  73.336811          2.2   \n",
       "1975                           41.5              19.8  72.801854          3.2   \n",
       "1976                           44.3              23.9  72.166525          4.5   \n",
       "1977                           46.9              25.7  72.456395          6.8   \n",
       "1978                           49.9              28.1  73.192821          8.4   \n",
       "1979                           52.3              30.2  73.821142          9.4   \n",
       "1980                           54.7              32.5  74.981032         10.3   \n",
       "1981                           56.4              34.8  75.845123         11.6   \n",
       "1982                           58.0              36.3  75.843649         12.4   \n",
       "1983                           58.6              37.1  75.950601         13.1   \n",
       "1984                           59.1              36.8  75.869116         13.5   \n",
       "1985                           59.0              35.7  75.923440         13.5   \n",
       "1986                           60.0              34.7  76.143015         13.9   \n",
       "1987                           60.2              32.4  76.963092         14.0   \n",
       "1988                           60.4              30.8  77.627662         13.9   \n",
       "1989                           60.5              29.9  78.111919         14.1   \n",
       "1990                           60.8              29.4  78.866859         14.1   \n",
       "1991                           60.8              28.7  78.991246         14.0   \n",
       "1992                           59.7              28.2  78.435182         14.5   \n",
       "1993                           58.7              28.5  77.267312         14.9   \n",
       "1994                           58.1              28.5  75.814933         15.7   \n",
       "1995                           58.8              27.5  75.125256         16.2   \n",
       "1996                           58.7              27.1  75.035199         16.7   \n",
       "1997                           60.0              26.8  75.163701         17.0   \n",
       "1998                           60.0              27.0  75.486160         17.8   \n",
       "1999                           61.2              28.1  75.838162         18.6   \n",
       "2000                           61.9              27.7  76.692143         18.4   \n",
       "2001                           63.0              27.6  77.375229         19.0   \n",
       "2002                           63.7              27.0  78.644244         18.7   \n",
       "2003                           64.6              25.1  78.544948         18.8   \n",
       "2004                           64.2              22.2  78.650748         18.2   \n",
       "2005                           63.4              20.6  79.067122         17.9   \n",
       "2006                           63.0              18.6  78.686306         16.8   \n",
       "2007                           62.5              17.6  78.721413         16.8   \n",
       "2008                           62.4              17.8  79.196327         16.5   \n",
       "2009                           62.8              18.1  79.532909         16.8   \n",
       "2010                           62.5              17.6  79.618625         17.2   \n",
       "2011                           62.2              18.2  79.432812         17.5   \n",
       "\n",
       "        English  Foreign Languages  Health Professions  Math and Statistics  \\\n",
       "Year                                                                          \n",
       "1970  65.570923               73.8                77.1                 38.0   \n",
       "1971  64.556485               73.9                75.5                 39.0   \n",
       "1972  63.664263               74.6                76.9                 40.2   \n",
       "1973  62.941502               74.9                77.4                 40.9   \n",
       "1974  62.413412               75.3                77.9                 41.8   \n",
       "1975  61.647206               75.0                78.9                 40.7   \n",
       "1976  62.148194               74.4                79.2                 41.5   \n",
       "1977  62.723067               74.3                80.5                 41.1   \n",
       "1978  63.619122               74.3                81.9                 41.6   \n",
       "1979  65.088390               74.2                82.3                 42.3   \n",
       "1980  65.284130               74.1                83.5                 42.8   \n",
       "1981  65.838322               73.9                84.1                 43.2   \n",
       "1982  65.847352               72.7                84.4                 44.0   \n",
       "1983  65.918380               71.8                84.6                 44.3   \n",
       "1984  65.749862               72.1                85.1                 46.2   \n",
       "1985  65.798199               70.8                85.3                 46.5   \n",
       "1986  65.982561               71.2                85.7                 46.7   \n",
       "1987  66.706031               72.0                85.5                 46.5   \n",
       "1988  67.144498               72.3                85.2                 46.2   \n",
       "1989  67.017072               72.4                84.6                 46.2   \n",
       "1990  66.921902               71.2                83.9                 47.3   \n",
       "1991  66.241475               71.1                83.5                 47.0   \n",
       "1992  65.622457               71.0                83.0                 47.4   \n",
       "1993  65.730950               70.0                82.4                 46.4   \n",
       "1994  65.641978               69.1                81.8                 47.0   \n",
       "1995  65.936949               69.6                81.5                 46.1   \n",
       "1996  66.437779               69.7                81.3                 46.4   \n",
       "1997  66.786355               70.0                81.9                 47.0   \n",
       "1998  67.255448               70.1                82.1                 48.3   \n",
       "1999  67.820221               70.9                83.5                 47.8   \n",
       "2000  68.365995               70.9                83.5                 48.2   \n",
       "2001  68.578520               71.2                85.1                 47.0   \n",
       "2002  68.829960               70.5                85.8                 45.7   \n",
       "2003  68.894487               70.6                86.5                 46.0   \n",
       "2004  68.454734               70.8                86.5                 44.7   \n",
       "2005  68.571221               69.9                86.0                 45.1   \n",
       "2006  68.297594               69.6                85.9                 44.1   \n",
       "2007  67.874923               70.2                85.4                 44.1   \n",
       "2008  67.594028               70.2                85.2                 43.3   \n",
       "2009  67.969792               69.3                85.1                 43.3   \n",
       "2010  67.928106               69.0                85.0                 43.1   \n",
       "2011  68.426730               69.5                84.8                 43.1   \n",
       "\n",
       "      Physical Sciences  Psychology  Public Administration  \\\n",
       "Year                                                         \n",
       "1970               13.8        44.4                   68.4   \n",
       "1971               14.9        46.2                   65.5   \n",
       "1972               14.8        47.6                   62.6   \n",
       "1973               16.5        50.4                   64.3   \n",
       "1974               18.2        52.6                   66.1   \n",
       "1975               19.1        54.5                   63.0   \n",
       "1976               20.0        56.9                   65.6   \n",
       "1977               21.3        59.0                   69.3   \n",
       "1978               22.5        61.3                   71.5   \n",
       "1979               23.7        63.3                   73.3   \n",
       "1980               24.6        65.1                   74.6   \n",
       "1981               25.7        66.9                   74.7   \n",
       "1982               27.3        67.5                   76.8   \n",
       "1983               27.6        67.9                   76.1   \n",
       "1984               28.0        68.2                   75.9   \n",
       "1985               27.5        69.0                   75.0   \n",
       "1986               28.4        69.0                   75.7   \n",
       "1987               30.4        70.1                   76.4   \n",
       "1988               29.7        70.9                   75.6   \n",
       "1989               31.3        71.6                   76.0   \n",
       "1990               31.6        72.6                   77.6   \n",
       "1991               32.6        73.2                   78.2   \n",
       "1992               32.6        73.2                   77.3   \n",
       "1993               33.6        73.1                   78.0   \n",
       "1994               34.8        72.9                   78.8   \n",
       "1995               35.9        73.0                   78.8   \n",
       "1996               37.3        73.9                   79.8   \n",
       "1997               38.3        74.4                   81.0   \n",
       "1998               39.7        75.1                   81.3   \n",
       "1999               40.2        76.5                   81.1   \n",
       "2000               41.0        77.5                   81.1   \n",
       "2001               42.2        77.5                   80.9   \n",
       "2002               41.1        77.7                   81.3   \n",
       "2003               41.7        77.8                   81.5   \n",
       "2004               42.1        77.8                   80.7   \n",
       "2005               41.6        77.5                   81.2   \n",
       "2006               40.8        77.4                   81.2   \n",
       "2007               40.7        77.1                   82.1   \n",
       "2008               40.7        77.2                   81.7   \n",
       "2009               40.7        77.1                   82.0   \n",
       "2010               40.2        77.0                   81.7   \n",
       "2011               40.1        76.7                   81.9   \n",
       "\n",
       "      Social Sciences and History  \n",
       "Year                               \n",
       "1970                         36.8  \n",
       "1971                         36.2  \n",
       "1972                         36.1  \n",
       "1973                         36.4  \n",
       "1974                         37.3  \n",
       "1975                         37.7  \n",
       "1976                         39.2  \n",
       "1977                         40.5  \n",
       "1978                         41.8  \n",
       "1979                         43.6  \n",
       "1980                         44.2  \n",
       "1981                         44.6  \n",
       "1982                         44.6  \n",
       "1983                         44.1  \n",
       "1984                         44.1  \n",
       "1985                         43.8  \n",
       "1986                         44.0  \n",
       "1987                         43.9  \n",
       "1988                         44.4  \n",
       "1989                         44.2  \n",
       "1990                         45.1  \n",
       "1991                         45.5  \n",
       "1992                         45.8  \n",
       "1993                         46.1  \n",
       "1994                         46.8  \n",
       "1995                         47.9  \n",
       "1996                         48.7  \n",
       "1997                         49.2  \n",
       "1998                         50.5  \n",
       "1999                         51.2  \n",
       "2000                         51.8  \n",
       "2001                         51.7  \n",
       "2002                         51.5  \n",
       "2003                         50.9  \n",
       "2004                         50.5  \n",
       "2005                         50.0  \n",
       "2006                         49.8  \n",
       "2007                         49.3  \n",
       "2008                         49.4  \n",
       "2009                         49.4  \n",
       "2010                         49.3  \n",
       "2011                         49.2  "
      ]
     },
     "execution_count": 46,
     "metadata": {},
     "output_type": "execute_result"
    }
   ],
   "source": [
    "df"
   ]
  },
  {
   "cell_type": "code",
   "execution_count": 38,
   "metadata": {},
   "outputs": [
    {
     "name": "stdout",
     "output_type": "stream",
     "text": [
      "0.8\n"
     ]
    }
   ],
   "source": [
    "print(df['Engineering'].min())"
   ]
  },
  {
   "cell_type": "code",
   "execution_count": 39,
   "metadata": {},
   "outputs": [
    {
     "name": "stdout",
     "output_type": "stream",
     "text": [
      "19.0\n"
     ]
    }
   ],
   "source": [
    "print(df['Engineering'].max())"
   ]
  },
  {
   "cell_type": "code",
   "execution_count": 66,
   "metadata": {},
   "outputs": [],
   "source": [
    "mean = df.mean(axis = 'columns')"
   ]
  },
  {
   "cell_type": "code",
   "execution_count": 69,
   "metadata": {},
   "outputs": [
    {
     "data": {
      "text/plain": [
       "Year\n",
       "1970    38.594697\n",
       "1971    38.603481\n",
       "1972    39.066075\n",
       "1973    40.131826\n",
       "1974    41.715916\n",
       "dtype: float64"
      ]
     },
     "execution_count": 69,
     "metadata": {},
     "output_type": "execute_result"
    }
   ],
   "source": [
    "mean.head()"
   ]
  },
  {
   "cell_type": "code",
   "execution_count": 68,
   "metadata": {},
   "outputs": [
    {
     "data": {
      "text/plain": [
       "<matplotlib.axes._subplots.AxesSubplot at 0x1a271c4390>"
      ]
     },
     "execution_count": 68,
     "metadata": {},
     "output_type": "execute_result"
    },
    {
     "data": {
      "image/png": "[encoded data removed]",
      "text/plain": [
       "<Figure size 432x288 with 1 Axes>"
      ]
     },
     "metadata": {
      "needs_background": "light"
     },
     "output_type": "display_data"
    }
   ],
   "source": [
    "mean.plot()"
   ]
  },
  {
   "cell_type": "code",
   "execution_count": 70,
   "metadata": {},
   "outputs": [
    {
     "data": {
      "text/html": [
       "<div>\n",
       "<style scoped>\n",
       "    .dataframe tbody tr th:only-of-type {\n",
       "        vertical-align: middle;\n",
       "    }\n",
       "\n",
       "    .dataframe tbody tr th {\n",
       "        vertical-align: top;\n",
       "    }\n",
       "\n",
       "    .dataframe thead th {\n",
       "        text-align: right;\n",
       "    }\n",
       "</style>\n",
       "<table border=\"1\" class=\"dataframe\">\n",
       "  <thead>\n",
       "    <tr style=\"text-align: right;\">\n",
       "      <th></th>\n",
       "      <th>Agriculture</th>\n",
       "      <th>Architecture</th>\n",
       "      <th>Art and Performance</th>\n",
       "      <th>Biology</th>\n",
       "      <th>Business</th>\n",
       "      <th>Communications and Journalism</th>\n",
       "      <th>Computer Science</th>\n",
       "      <th>Education</th>\n",
       "      <th>Engineering</th>\n",
       "      <th>English</th>\n",
       "      <th>Foreign Languages</th>\n",
       "      <th>Health Professions</th>\n",
       "      <th>Math and Statistics</th>\n",
       "      <th>Physical Sciences</th>\n",
       "      <th>Psychology</th>\n",
       "      <th>Public Administration</th>\n",
       "      <th>Social Sciences and History</th>\n",
       "    </tr>\n",
       "    <tr>\n",
       "      <th>Year</th>\n",
       "      <th></th>\n",
       "      <th></th>\n",
       "      <th></th>\n",
       "      <th></th>\n",
       "      <th></th>\n",
       "      <th></th>\n",
       "      <th></th>\n",
       "      <th></th>\n",
       "      <th></th>\n",
       "      <th></th>\n",
       "      <th></th>\n",
       "      <th></th>\n",
       "      <th></th>\n",
       "      <th></th>\n",
       "      <th></th>\n",
       "      <th></th>\n",
       "      <th></th>\n",
       "    </tr>\n",
       "  </thead>\n",
       "  <tbody>\n",
       "    <tr>\n",
       "      <td>1970</td>\n",
       "      <td>4.229798</td>\n",
       "      <td>11.921005</td>\n",
       "      <td>59.7</td>\n",
       "      <td>29.088363</td>\n",
       "      <td>9.064439</td>\n",
       "      <td>35.3</td>\n",
       "      <td>13.6</td>\n",
       "      <td>74.535328</td>\n",
       "      <td>0.8</td>\n",
       "      <td>65.570923</td>\n",
       "      <td>73.8</td>\n",
       "      <td>77.1</td>\n",
       "      <td>38.0</td>\n",
       "      <td>13.8</td>\n",
       "      <td>44.4</td>\n",
       "      <td>68.4</td>\n",
       "      <td>36.8</td>\n",
       "    </tr>\n",
       "    <tr>\n",
       "      <td>1971</td>\n",
       "      <td>5.452797</td>\n",
       "      <td>12.003106</td>\n",
       "      <td>59.9</td>\n",
       "      <td>29.394403</td>\n",
       "      <td>9.503187</td>\n",
       "      <td>35.5</td>\n",
       "      <td>13.6</td>\n",
       "      <td>74.149204</td>\n",
       "      <td>1.0</td>\n",
       "      <td>64.556485</td>\n",
       "      <td>73.9</td>\n",
       "      <td>75.5</td>\n",
       "      <td>39.0</td>\n",
       "      <td>14.9</td>\n",
       "      <td>46.2</td>\n",
       "      <td>65.5</td>\n",
       "      <td>36.2</td>\n",
       "    </tr>\n",
       "    <tr>\n",
       "      <td>1972</td>\n",
       "      <td>7.420710</td>\n",
       "      <td>13.214594</td>\n",
       "      <td>60.4</td>\n",
       "      <td>29.810221</td>\n",
       "      <td>10.558962</td>\n",
       "      <td>36.6</td>\n",
       "      <td>14.9</td>\n",
       "      <td>73.554520</td>\n",
       "      <td>1.2</td>\n",
       "      <td>63.664263</td>\n",
       "      <td>74.6</td>\n",
       "      <td>76.9</td>\n",
       "      <td>40.2</td>\n",
       "      <td>14.8</td>\n",
       "      <td>47.6</td>\n",
       "      <td>62.6</td>\n",
       "      <td>36.1</td>\n",
       "    </tr>\n",
       "    <tr>\n",
       "      <td>1973</td>\n",
       "      <td>9.653602</td>\n",
       "      <td>14.791613</td>\n",
       "      <td>60.2</td>\n",
       "      <td>31.147915</td>\n",
       "      <td>12.804602</td>\n",
       "      <td>38.4</td>\n",
       "      <td>16.4</td>\n",
       "      <td>73.501814</td>\n",
       "      <td>1.6</td>\n",
       "      <td>62.941502</td>\n",
       "      <td>74.9</td>\n",
       "      <td>77.4</td>\n",
       "      <td>40.9</td>\n",
       "      <td>16.5</td>\n",
       "      <td>50.4</td>\n",
       "      <td>64.3</td>\n",
       "      <td>36.4</td>\n",
       "    </tr>\n",
       "    <tr>\n",
       "      <td>1974</td>\n",
       "      <td>14.074623</td>\n",
       "      <td>17.444688</td>\n",
       "      <td>61.9</td>\n",
       "      <td>32.996183</td>\n",
       "      <td>16.204850</td>\n",
       "      <td>40.5</td>\n",
       "      <td>18.9</td>\n",
       "      <td>73.336811</td>\n",
       "      <td>2.2</td>\n",
       "      <td>62.413412</td>\n",
       "      <td>75.3</td>\n",
       "      <td>77.9</td>\n",
       "      <td>41.8</td>\n",
       "      <td>18.2</td>\n",
       "      <td>52.6</td>\n",
       "      <td>66.1</td>\n",
       "      <td>37.3</td>\n",
       "    </tr>\n",
       "  </tbody>\n",
       "</table>\n",
       "</div>"
      ],
      "text/plain": [
       "      Agriculture  Architecture  Art and Performance    Biology   Business  \\\n",
       "Year                                                                         \n",
       "1970     4.229798     11.921005                 59.7  29.088363   9.064439   \n",
       "1971     5.452797     12.003106                 59.9  29.394403   9.503187   \n",
       "1972     7.420710     13.214594                 60.4  29.810221  10.558962   \n",
       "1973     9.653602     14.791613                 60.2  31.147915  12.804602   \n",
       "1974    14.074623     17.444688                 61.9  32.996183  16.204850   \n",
       "\n",
       "      Communications and Journalism  Computer Science  Education  Engineering  \\\n",
       "Year                                                                            \n",
       "1970                           35.3              13.6  74.535328          0.8   \n",
       "1971                           35.5              13.6  74.149204          1.0   \n",
       "1972                           36.6              14.9  73.554520          1.2   \n",
       "1973                           38.4              16.4  73.501814          1.6   \n",
       "1974                           40.5              18.9  73.336811          2.2   \n",
       "\n",
       "        English  Foreign Languages  Health Professions  Math and Statistics  \\\n",
       "Year                                                                          \n",
       "1970  65.570923               73.8                77.1                 38.0   \n",
       "1971  64.556485               73.9                75.5                 39.0   \n",
       "1972  63.664263               74.6                76.9                 40.2   \n",
       "1973  62.941502               74.9                77.4                 40.9   \n",
       "1974  62.413412               75.3                77.9                 41.8   \n",
       "\n",
       "      Physical Sciences  Psychology  Public Administration  \\\n",
       "Year                                                         \n",
       "1970               13.8        44.4                   68.4   \n",
       "1971               14.9        46.2                   65.5   \n",
       "1972               14.8        47.6                   62.6   \n",
       "1973               16.5        50.4                   64.3   \n",
       "1974               18.2        52.6                   66.1   \n",
       "\n",
       "      Social Sciences and History  \n",
       "Year                               \n",
       "1970                         36.8  \n",
       "1971                         36.2  \n",
       "1972                         36.1  \n",
       "1973                         36.4  \n",
       "1974                         37.3  "
      ]
     },
     "execution_count": 70,
     "metadata": {},
     "output_type": "execute_result"
    }
   ],
   "source": [
    "df.head()"
   ]
  },
  {
   "cell_type": "code",
   "execution_count": 75,
   "metadata": {},
   "outputs": [
    {
     "data": {
      "text/plain": [
       "<matplotlib.axes._subplots.AxesSubplot at 0x1a27c29650>"
      ]
     },
     "execution_count": 75,
     "metadata": {},
     "output_type": "execute_result"
    },
    {
     "data": {
      "image/png": "[encoded data removed]",
      "text/plain": [
       "<Figure size 432x288 with 1 Axes>"
      ]
     },
     "metadata": {
      "needs_background": "light"
     },
     "output_type": "display_data"
    }
   ],
   "source": [
    "df.plot( x = 'Architecture',y ='Engineering' , kind = 'scatter')"
   ]
  },
  {
   "cell_type": "code",
   "execution_count": 147,
   "metadata": {},
   "outputs": [],
   "source": [
    "gapminder = pd.read_csv(\"./datasets/gapminder.csv\", names=['Country', 'test', '1990', '1991', '1992', '1993', '1994', '1995', '1996', '1997', '1998', '1999', '2000', '2001', '2002', '2003', '2004', '2005', '2006', '2007', '2008', '2009', '2010', '2011', '2012', '2013'])"
   ]
  },
  {
   "cell_type": "code",
   "execution_count": 148,
   "metadata": {},
   "outputs": [
    {
     "data": {
      "text/html": [
       "<div>\n",
       "<style scoped>\n",
       "    .dataframe tbody tr th:only-of-type {\n",
       "        vertical-align: middle;\n",
       "    }\n",
       "\n",
       "    .dataframe tbody tr th {\n",
       "        vertical-align: top;\n",
       "    }\n",
       "\n",
       "    .dataframe thead th {\n",
       "        text-align: right;\n",
       "    }\n",
       "</style>\n",
       "<table border=\"1\" class=\"dataframe\">\n",
       "  <thead>\n",
       "    <tr style=\"text-align: right;\">\n",
       "      <th></th>\n",
       "      <th>Country</th>\n",
       "      <th>test</th>\n",
       "      <th>1990</th>\n",
       "      <th>1991</th>\n",
       "      <th>1992</th>\n",
       "      <th>1993</th>\n",
       "      <th>1994</th>\n",
       "      <th>1995</th>\n",
       "      <th>1996</th>\n",
       "      <th>1997</th>\n",
       "      <th>...</th>\n",
       "      <th>2004</th>\n",
       "      <th>2005</th>\n",
       "      <th>2006</th>\n",
       "      <th>2007</th>\n",
       "      <th>2008</th>\n",
       "      <th>2009</th>\n",
       "      <th>2010</th>\n",
       "      <th>2011</th>\n",
       "      <th>2012</th>\n",
       "      <th>2013</th>\n",
       "    </tr>\n",
       "  </thead>\n",
       "  <tbody>\n",
       "    <tr>\n",
       "      <td>0</td>\n",
       "      <td>Afghanistan</td>\n",
       "      <td>NaN</td>\n",
       "      <td>50.3</td>\n",
       "      <td>50.2</td>\n",
       "      <td>50.4</td>\n",
       "      <td>50.5</td>\n",
       "      <td>50.1</td>\n",
       "      <td>50.4</td>\n",
       "      <td>50.6</td>\n",
       "      <td>50.7</td>\n",
       "      <td>...</td>\n",
       "      <td>52.5</td>\n",
       "      <td>52.9</td>\n",
       "      <td>53.2</td>\n",
       "      <td>53.6</td>\n",
       "      <td>54.0</td>\n",
       "      <td>54.5</td>\n",
       "      <td>54.8</td>\n",
       "      <td>55.2</td>\n",
       "      <td>55.5</td>\n",
       "      <td>56.2</td>\n",
       "    </tr>\n",
       "    <tr>\n",
       "      <td>1</td>\n",
       "      <td>Albania</td>\n",
       "      <td>NaN</td>\n",
       "      <td>73.5</td>\n",
       "      <td>73.4</td>\n",
       "      <td>73.4</td>\n",
       "      <td>73.4</td>\n",
       "      <td>73.6</td>\n",
       "      <td>73.8</td>\n",
       "      <td>73.9</td>\n",
       "      <td>73.9</td>\n",
       "      <td>...</td>\n",
       "      <td>74.4</td>\n",
       "      <td>74.4</td>\n",
       "      <td>74.5</td>\n",
       "      <td>74.7</td>\n",
       "      <td>74.9</td>\n",
       "      <td>75.0</td>\n",
       "      <td>75.2</td>\n",
       "      <td>75.5</td>\n",
       "      <td>75.7</td>\n",
       "      <td>75.8</td>\n",
       "    </tr>\n",
       "    <tr>\n",
       "      <td>2</td>\n",
       "      <td>Algeria</td>\n",
       "      <td>NaN</td>\n",
       "      <td>70.5</td>\n",
       "      <td>70.8</td>\n",
       "      <td>71.1</td>\n",
       "      <td>71.3</td>\n",
       "      <td>71.5</td>\n",
       "      <td>71.7</td>\n",
       "      <td>72.1</td>\n",
       "      <td>72.4</td>\n",
       "      <td>...</td>\n",
       "      <td>74.2</td>\n",
       "      <td>74.5</td>\n",
       "      <td>74.8</td>\n",
       "      <td>75.0</td>\n",
       "      <td>75.3</td>\n",
       "      <td>75.6</td>\n",
       "      <td>75.9</td>\n",
       "      <td>76.1</td>\n",
       "      <td>76.2</td>\n",
       "      <td>76.3</td>\n",
       "    </tr>\n",
       "    <tr>\n",
       "      <td>3</td>\n",
       "      <td>Andorra</td>\n",
       "      <td>NaN</td>\n",
       "      <td>80.7</td>\n",
       "      <td>80.8</td>\n",
       "      <td>81.0</td>\n",
       "      <td>81.2</td>\n",
       "      <td>81.4</td>\n",
       "      <td>81.6</td>\n",
       "      <td>81.8</td>\n",
       "      <td>82.1</td>\n",
       "      <td>...</td>\n",
       "      <td>83.0</td>\n",
       "      <td>83.1</td>\n",
       "      <td>83.2</td>\n",
       "      <td>83.4</td>\n",
       "      <td>83.5</td>\n",
       "      <td>83.6</td>\n",
       "      <td>83.7</td>\n",
       "      <td>83.8</td>\n",
       "      <td>83.8</td>\n",
       "      <td>83.9</td>\n",
       "    </tr>\n",
       "    <tr>\n",
       "      <td>4</td>\n",
       "      <td>Angola</td>\n",
       "      <td>NaN</td>\n",
       "      <td>50.3</td>\n",
       "      <td>50.7</td>\n",
       "      <td>50.7</td>\n",
       "      <td>49.6</td>\n",
       "      <td>50.5</td>\n",
       "      <td>50.9</td>\n",
       "      <td>51.0</td>\n",
       "      <td>51.2</td>\n",
       "      <td>...</td>\n",
       "      <td>55.2</td>\n",
       "      <td>56.0</td>\n",
       "      <td>56.9</td>\n",
       "      <td>57.6</td>\n",
       "      <td>58.3</td>\n",
       "      <td>58.9</td>\n",
       "      <td>59.4</td>\n",
       "      <td>59.7</td>\n",
       "      <td>60.1</td>\n",
       "      <td>60.4</td>\n",
       "    </tr>\n",
       "  </tbody>\n",
       "</table>\n",
       "<p>5 rows × 26 columns</p>\n",
       "</div>"
      ],
      "text/plain": [
       "       Country test  1990  1991  1992  1993  1994  1995  1996  1997  ...  \\\n",
       "0  Afghanistan  NaN  50.3  50.2  50.4  50.5  50.1  50.4  50.6  50.7  ...   \n",
       "1      Albania  NaN  73.5  73.4  73.4  73.4  73.6  73.8  73.9  73.9  ...   \n",
       "2      Algeria  NaN  70.5  70.8  71.1  71.3  71.5  71.7  72.1  72.4  ...   \n",
       "3      Andorra  NaN  80.7  80.8  81.0  81.2  81.4  81.6  81.8  82.1  ...   \n",
       "4       Angola  NaN  50.3  50.7  50.7  49.6  50.5  50.9  51.0  51.2  ...   \n",
       "\n",
       "   2004  2005  2006  2007  2008  2009  2010  2011  2012  2013  \n",
       "0  52.5  52.9  53.2  53.6  54.0  54.5  54.8  55.2  55.5  56.2  \n",
       "1  74.4  74.4  74.5  74.7  74.9  75.0  75.2  75.5  75.7  75.8  \n",
       "2  74.2  74.5  74.8  75.0  75.3  75.6  75.9  76.1  76.2  76.3  \n",
       "3  83.0  83.1  83.2  83.4  83.5  83.6  83.7  83.8  83.8  83.9  \n",
       "4  55.2  56.0  56.9  57.6  58.3  58.9  59.4  59.7  60.1  60.4  \n",
       "\n",
       "[5 rows x 26 columns]"
      ]
     },
     "execution_count": 148,
     "metadata": {},
     "output_type": "execute_result"
    }
   ],
   "source": [
    "gapminder.head()"
   ]
  },
  {
   "cell_type": "code",
   "execution_count": 81,
   "metadata": {},
   "outputs": [
    {
     "data": {
      "text/plain": [
       "188"
      ]
     },
     "execution_count": 81,
     "metadata": {},
     "output_type": "execute_result"
    }
   ],
   "source": [
    "gapminder['2013'].count()"
   ]
  },
  {
   "cell_type": "code",
   "execution_count": 84,
   "metadata": {},
   "outputs": [
    {
     "data": {
      "text/plain": [
       "1990    69.40\n",
       "1991    69.35\n",
       "1992    68.90\n",
       "1993    69.00\n",
       "1994    69.00\n",
       "1995    69.25\n",
       "1996    69.60\n",
       "1997    69.70\n",
       "1998    69.80\n",
       "1999    69.95\n",
       "2000    70.20\n",
       "2001    70.35\n",
       "2002    70.80\n",
       "2003    71.15\n",
       "2004    71.45\n",
       "2005    71.65\n",
       "2006    71.65\n",
       "2007    71.70\n",
       "2008    72.10\n",
       "2009    72.35\n",
       "2010    72.40\n",
       "2011    72.55\n",
       "2012    72.85\n",
       "2013    72.80\n",
       "Name: 0.5, dtype: float64"
      ]
     },
     "execution_count": 84,
     "metadata": {},
     "output_type": "execute_result"
    }
   ],
   "source": [
    "gapminder.quantile(.50)"
   ]
  },
  {
   "cell_type": "code",
   "execution_count": 90,
   "metadata": {},
   "outputs": [
    {
     "data": {
      "text/plain": [
       "<matplotlib.axes._subplots.AxesSubplot at 0x1a275f7b50>"
      ]
     },
     "execution_count": 90,
     "metadata": {},
     "output_type": "execute_result"
    },
    {
     "data": {
      "image/png": "[encoded data removed]",
      "text/plain": [
       "<Figure size 432x288 with 1 Axes>"
      ]
     },
     "metadata": {
      "needs_background": "light"
     },
     "output_type": "display_data"
    }
   ],
   "source": [
    "years = ['2000', '2009', '2013']\n",
    "gapminder[years].plot(kind = 'box')"
   ]
  },
  {
   "cell_type": "code",
   "execution_count": 93,
   "metadata": {},
   "outputs": [
    {
     "data": {
      "text/plain": [
       "8.441392650704275"
      ]
     },
     "execution_count": 93,
     "metadata": {},
     "output_type": "execute_result"
    }
   ],
   "source": [
    "gapminder['1990'].std()"
   ]
  },
  {
   "cell_type": "code",
   "execution_count": 100,
   "metadata": {},
   "outputs": [
    {
     "data": {
      "text/plain": [
       "array(['setosa', 'versicolor', 'virginica'], dtype=object)"
      ]
     },
     "execution_count": 100,
     "metadata": {},
     "output_type": "execute_result"
    }
   ],
   "source": [
    "iris['species'].unique()"
   ]
  },
  {
   "cell_type": "code",
   "execution_count": 116,
   "metadata": {},
   "outputs": [],
   "source": [
    "# Filtering a dataframe"
   ]
  },
  {
   "cell_type": "code",
   "execution_count": 112,
   "metadata": {},
   "outputs": [],
   "source": [
    "indices = iris['species'] == 'setosa'\n",
    "setosa = iris.loc[indices,:]\n",
    "indices = iris['species'] == 'virginica'\n",
    "virginica = iris.loc[indices,:]\n",
    "indices = iris['species'] == 'versicolor'\n",
    "versicolor = iris.loc[indices,:]"
   ]
  },
  {
   "cell_type": "code",
   "execution_count": 113,
   "metadata": {},
   "outputs": [
    {
     "data": {
      "text/plain": [
       "array(['setosa'], dtype=object)"
      ]
     },
     "execution_count": 113,
     "metadata": {},
     "output_type": "execute_result"
    }
   ],
   "source": [
    "setosa['species'].unique()"
   ]
  },
  {
   "cell_type": "code",
   "execution_count": 114,
   "metadata": {},
   "outputs": [
    {
     "data": {
      "text/plain": [
       "array(['virginica'], dtype=object)"
      ]
     },
     "execution_count": 114,
     "metadata": {},
     "output_type": "execute_result"
    }
   ],
   "source": [
    "virginica['species'].unique()"
   ]
  },
  {
   "cell_type": "code",
   "execution_count": 115,
   "metadata": {},
   "outputs": [
    {
     "data": {
      "text/plain": [
       "array(['versicolor'], dtype=object)"
      ]
     },
     "execution_count": 115,
     "metadata": {},
     "output_type": "execute_result"
    }
   ],
   "source": [
    "versicolor['species'].unique()"
   ]
  },
  {
   "cell_type": "code",
   "execution_count": 117,
   "metadata": {},
   "outputs": [],
   "source": [
    "del setosa['species']"
   ]
  },
  {
   "cell_type": "code",
   "execution_count": 118,
   "metadata": {},
   "outputs": [
    {
     "data": {
      "text/html": [
       "<div>\n",
       "<style scoped>\n",
       "    .dataframe tbody tr th:only-of-type {\n",
       "        vertical-align: middle;\n",
       "    }\n",
       "\n",
       "    .dataframe tbody tr th {\n",
       "        vertical-align: top;\n",
       "    }\n",
       "\n",
       "    .dataframe thead th {\n",
       "        text-align: right;\n",
       "    }\n",
       "</style>\n",
       "<table border=\"1\" class=\"dataframe\">\n",
       "  <thead>\n",
       "    <tr style=\"text-align: right;\">\n",
       "      <th></th>\n",
       "      <th>sepal_length</th>\n",
       "      <th>sepal_width</th>\n",
       "      <th>petal_length</th>\n",
       "      <th>petal_width</th>\n",
       "    </tr>\n",
       "  </thead>\n",
       "  <tbody>\n",
       "    <tr>\n",
       "      <td>0</td>\n",
       "      <td>5.1</td>\n",
       "      <td>3.5</td>\n",
       "      <td>1.4</td>\n",
       "      <td>0.2</td>\n",
       "    </tr>\n",
       "    <tr>\n",
       "      <td>1</td>\n",
       "      <td>NaN</td>\n",
       "      <td>3.0</td>\n",
       "      <td>1.4</td>\n",
       "      <td>0.2</td>\n",
       "    </tr>\n",
       "    <tr>\n",
       "      <td>2</td>\n",
       "      <td>4.7</td>\n",
       "      <td>3.2</td>\n",
       "      <td>1.3</td>\n",
       "      <td>0.2</td>\n",
       "    </tr>\n",
       "    <tr>\n",
       "      <td>3</td>\n",
       "      <td>4.6</td>\n",
       "      <td>3.1</td>\n",
       "      <td>1.5</td>\n",
       "      <td>0.2</td>\n",
       "    </tr>\n",
       "    <tr>\n",
       "      <td>4</td>\n",
       "      <td>5.0</td>\n",
       "      <td>3.6</td>\n",
       "      <td>1.4</td>\n",
       "      <td>0.2</td>\n",
       "    </tr>\n",
       "  </tbody>\n",
       "</table>\n",
       "</div>"
      ],
      "text/plain": [
       "   sepal_length  sepal_width  petal_length  petal_width\n",
       "0           5.1          3.5           1.4          0.2\n",
       "1           NaN          3.0           1.4          0.2\n",
       "2           4.7          3.2           1.3          0.2\n",
       "3           4.6          3.1           1.5          0.2\n",
       "4           5.0          3.6           1.4          0.2"
      ]
     },
     "execution_count": 118,
     "metadata": {},
     "output_type": "execute_result"
    }
   ],
   "source": []
  },
  {
   "cell_type": "code",
   "execution_count": 121,
   "metadata": {},
   "outputs": [
    {
     "data": {
      "text/plain": [
       "array(['1', '3', '2', 'hi 1200d'], dtype=object)"
      ]
     },
     "execution_count": 121,
     "metadata": {},
     "output_type": "execute_result"
    }
   ],
   "source": [
    "df_auto['origin'].unique()"
   ]
  },
  {
   "cell_type": "code",
   "execution_count": 131,
   "metadata": {},
   "outputs": [
    {
     "data": {
      "text/plain": [
       "(248, 9)"
      ]
     },
     "execution_count": 131,
     "metadata": {},
     "output_type": "execute_result"
    }
   ],
   "source": [
    "df_auto[df_auto['origin'] == '1'].shape"
   ]
  },
  {
   "cell_type": "code",
   "execution_count": 133,
   "metadata": {},
   "outputs": [
    {
     "data": {
      "text/plain": [
       "mpg              2.012823e+01\n",
       "cylinders        6.241935e+00\n",
       "displacement     2.456673e+02\n",
       "hp               1.187459e+02\n",
       "weight           3.356407e+03\n",
       "acceleration     1.501976e+01\n",
       "modelyear        7.563306e+01\n",
       "origin          4.480287e+244\n",
       "dtype: float64"
      ]
     },
     "execution_count": 133,
     "metadata": {},
     "output_type": "execute_result"
    }
   ],
   "source": [
    "us = df_auto[df_auto['origin'] == '1']\n",
    "us.mean()"
   ]
  },
  {
   "cell_type": "code",
   "execution_count": 136,
   "metadata": {},
   "outputs": [
    {
     "data": {
      "text/plain": [
       "acceleration      0.677729\n",
       "cylinders        -0.043443\n",
       "displacement    -52.520354\n",
       "hp               -2.697432\n",
       "modelyear         0.203619\n",
       "mpg               3.386548\n",
       "origin                 NaN\n",
       "weight         -397.825600\n",
       "dtype: float64"
      ]
     },
     "execution_count": 136,
     "metadata": {},
     "output_type": "execute_result"
    }
   ],
   "source": [
    "df_auto.mean() - us.mean()"
   ]
  },
  {
   "cell_type": "code",
   "execution_count": 137,
   "metadata": {},
   "outputs": [],
   "source": [
    "titanic = pd.read_csv(\"./datasets/titanic (1).csv\")"
   ]
  },
  {
   "cell_type": "code",
   "execution_count": 140,
   "metadata": {},
   "outputs": [
    {
     "data": {
      "text/plain": [
       "(887, 8)"
      ]
     },
     "execution_count": 140,
     "metadata": {},
     "output_type": "execute_result"
    }
   ],
   "source": [
    "titanic.shape"
   ]
  },
  {
   "cell_type": "code",
   "execution_count": 141,
   "metadata": {},
   "outputs": [
    {
     "data": {
      "image/png": "[encoded data removed]",
      "text/plain": [
       "<Figure size 432x288 with 2 Axes>"
      ]
     },
     "metadata": {
      "needs_background": "light"
     },
     "output_type": "display_data"
    }
   ],
   "source": [
    "fig, axes = plt.subplots(nrows=2, ncols=1)"
   ]
  },
  {
   "cell_type": "code",
   "execution_count": 143,
   "metadata": {},
   "outputs": [
    {
     "name": "stdout",
     "output_type": "stream",
     "text": [
      "<class 'pandas.core.frame.DataFrame'>\n",
      "RangeIndex: 887 entries, 0 to 886\n",
      "Data columns (total 8 columns):\n",
      "Survived                   887 non-null int64\n",
      "Pclass                     887 non-null int64\n",
      "Name                       887 non-null object\n",
      "Sex                        887 non-null object\n",
      "Age                        887 non-null float64\n",
      "Siblings/Spouses Aboard    887 non-null int64\n",
      "Parents/Children Aboard    887 non-null int64\n",
      "Fare                       887 non-null float64\n",
      "dtypes: float64(2), int64(4), object(2)\n",
      "memory usage: 55.6+ KB\n"
     ]
    }
   ],
   "source": [
    "titanic.info()"
   ]
  },
  {
   "cell_type": "code",
   "execution_count": 146,
   "metadata": {},
   "outputs": [
    {
     "data": {
      "text/plain": [
       "<matplotlib.axes._subplots.AxesSubplot at 0x1a2d67ced0>"
      ]
     },
     "execution_count": 146,
     "metadata": {},
     "output_type": "execute_result"
    },
    {
     "data": {
      "image/png": "[encoded data removed]",
      "text/plain": [
       "<Figure size 432x288 with 3 Axes>"
      ]
     },
     "metadata": {
      "needs_background": "light"
     },
     "output_type": "display_data"
    }
   ],
   "source": [
    "fig, axes = plt.subplots(nrows=3,ncols=1)\n",
    "iris[iris['species'] == 'setosa'].plot(ax= axes[0],y = 'sepal_length', kind = 'hist')\n",
    "iris[iris['species'] == 'versicolor'].plot(ax= axes[1],y = 'sepal_length', kind = 'hist')\n",
    "iris[iris['species'] == 'virginica'].plot(ax= axes[2],y = 'sepal_length', kind = 'hist')"
   ]
  },
  {
   "cell_type": "code",
   "execution_count": null,
   "metadata": {},
   "outputs": [],
   "source": [
    "plt.savefig()"
   ]
  }
 ],
 "metadata": {
  "kernelspec": {
   "display_name": "py36",
   "language": "python",
   "name": "envname"
  },
  "language_info": {
   "codemirror_mode": {
    "name": "ipython",
    "version": 3
   },
   "file_extension": ".py",
   "mimetype": "text/x-python",
   "name": "python",
   "nbconvert_exporter": "python",
   "pygments_lexer": "ipython3",
   "version": "3.6.8"
  }
 },
 "nbformat": 4,
 "nbformat_minor": 2
}
